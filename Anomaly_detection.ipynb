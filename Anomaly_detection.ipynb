{
  "nbformat": 4,
  "nbformat_minor": 0,
  "metadata": {
    "colab": {
      "name": "Anomaly_detection.ipynb",
      "provenance": [],
      "collapsed_sections": [],
      "authorship_tag": "ABX9TyN1AA9SxVepXIM51vHsN/Tn",
      "include_colab_link": true
    },
    "kernelspec": {
      "name": "python3",
      "display_name": "Python 3"
    },
    "language_info": {
      "name": "python"
    }
  },
  "cells": [
    {
      "cell_type": "markdown",
      "metadata": {
        "id": "view-in-github",
        "colab_type": "text"
      },
      "source": [
        "<a href=\"https://colab.research.google.com/github/marcochisci/Anomaly_detection/blob/main/Anomaly_detection.ipynb\" target=\"_parent\"><img src=\"https://colab.research.google.com/assets/colab-badge.svg\" alt=\"Open In Colab\"/></a>"
      ]
    },
    {
      "cell_type": "markdown",
      "metadata": {
        "id": "njhT4x0rzE97"
      },
      "source": [
        "# Install Apache Spark 3.0.0"
      ]
    },
    {
      "cell_type": "code",
      "metadata": {
        "id": "RZM6XcSMy4IM"
      },
      "source": [
        "# install Java8\n",
        "!apt-get install openjdk-8-jdk-headless -qq > /dev/null\n",
        "# download spark3.0.0\n",
        "!wget -q https://archive.apache.org/dist/spark/spark-3.0.0/spark-3.0.0-bin-hadoop3.2.tgz\n",
        "# unzip it\n",
        "!tar xf spark-3.0.0-bin-hadoop3.2.tgz\n",
        "# install findspark \n",
        "!pip install -q findspark"
      ],
      "execution_count": 1,
      "outputs": []
    },
    {
      "cell_type": "markdown",
      "metadata": {
        "id": "-sZSTxiKzbB-"
      },
      "source": [
        "# Set Environment Variables"
      ]
    },
    {
      "cell_type": "code",
      "metadata": {
        "id": "DowTY2Lmzi9v"
      },
      "source": [
        "import os\n",
        "os.environ[\"JAVA_HOME\"] = \"/usr/lib/jvm/java-8-openjdk-amd64\"\n",
        "os.environ[\"SPARK_HOME\"] = \"/content/spark-3.0.0-bin-hadoop3.2\""
      ],
      "execution_count": 2,
      "outputs": []
    },
    {
      "cell_type": "markdown",
      "metadata": {
        "id": "JqqvJo3i8PGC"
      },
      "source": [
        "#Create local spark session\n"
      ]
    },
    {
      "cell_type": "code",
      "metadata": {
        "id": "iTk4DGI98RLW"
      },
      "source": [
        "import findspark\n",
        "findspark.init()\n",
        "from pyspark.context import SparkContext\n",
        "from pyspark.sql.session import SparkSession\n",
        "sc = SparkContext('local')\n",
        "spark = SparkSession(sc)"
      ],
      "execution_count": 3,
      "outputs": []
    },
    {
      "cell_type": "markdown",
      "metadata": {
        "id": "v7y-c6hXzql5"
      },
      "source": [
        "Installation Test and pyspark version"
      ]
    },
    {
      "cell_type": "code",
      "metadata": {
        "colab": {
          "base_uri": "https://localhost:8080/"
        },
        "id": "tyr7niAHzuAF",
        "outputId": "66385091-fa4a-41a7-855a-7742960cf92e"
      },
      "source": [
        "#create a test schema\n",
        "from pyspark.sql.types import *\n",
        "from pyspark.sql import Row\n",
        "\n",
        "schema = StructType([StructField('name', StringType()), StructField('age',IntegerType())])\n",
        "rows = [Row(name='Severin', age=33), Row(name='John', age=48)]\n",
        "df = spark.createDataFrame(rows, schema)\n",
        "\n",
        "df.printSchema()\n",
        "df.show()\n",
        "\n",
        "\n",
        "# Check the pyspark version\n",
        "import pyspark\n",
        "print(pyspark.__version__)\n"
      ],
      "execution_count": 4,
      "outputs": [
        {
          "output_type": "stream",
          "name": "stdout",
          "text": [
            "root\n",
            " |-- name: string (nullable = true)\n",
            " |-- age: integer (nullable = true)\n",
            "\n",
            "+-------+---+\n",
            "|   name|age|\n",
            "+-------+---+\n",
            "|Severin| 33|\n",
            "|   John| 48|\n",
            "+-------+---+\n",
            "\n",
            "3.0.0\n"
          ]
        }
      ]
    },
    {
      "cell_type": "markdown",
      "metadata": {
        "id": "Slvyz6Ils5MI"
      },
      "source": [
        "# Airquino Table Data"
      ]
    },
    {
      "cell_type": "code",
      "metadata": {
        "colab": {
          "base_uri": "https://localhost:8080/",
          "height": 234
        },
        "id": "m0Vo7WcbtAQT",
        "outputId": "7a552366-cf2c-4039-ff17-272b2c346d74"
      },
      "source": [
        "import pandas as pd\n",
        "import psycopg2\n",
        "import datetime\n",
        "import matplotlib.pyplot as plt\n",
        "import matplotlib.ticker as ticker\n",
        "import matplotlib.dates as mdates\n",
        "\n",
        "\n",
        "conn = psycopg2.connect(host='playground.magentalab.it', port='55432', database='airqino', user='datareader', password='homntLZnlhQd9prtVA9SFezQek')\n",
        " # sensor_id è l'identificativo del sensore preso dalla tabella sensor, station_id è l'identificativo di centralina preso dalla tabella station\n",
        "query = \"\"\"select sd.data_acquired as timestamp, sd.float_value as value\n",
        "from station_data sd \n",
        "where sd.sensor_id = {} \n",
        "and sd.data_acquired >= to_timestamp('2021-06-01 00:00:00', 'YYYY-mm-dd HH24:MI:SS')\n",
        "and sd.station_id = {} order by sd.data_acquired asc;\"\"\".format(29510692, 23284701)\n",
        "\n",
        "df = pd.read_sql(query, conn)\n",
        "df = df.set_index('timestamp')\n",
        "\n",
        "display(df.head(5))"
      ],
      "execution_count": 11,
      "outputs": [
        {
          "output_type": "display_data",
          "data": {
            "text/html": [
              "<div>\n",
              "<style scoped>\n",
              "    .dataframe tbody tr th:only-of-type {\n",
              "        vertical-align: middle;\n",
              "    }\n",
              "\n",
              "    .dataframe tbody tr th {\n",
              "        vertical-align: top;\n",
              "    }\n",
              "\n",
              "    .dataframe thead th {\n",
              "        text-align: right;\n",
              "    }\n",
              "</style>\n",
              "<table border=\"1\" class=\"dataframe\">\n",
              "  <thead>\n",
              "    <tr style=\"text-align: right;\">\n",
              "      <th></th>\n",
              "      <th>value</th>\n",
              "    </tr>\n",
              "    <tr>\n",
              "      <th>timestamp</th>\n",
              "      <th></th>\n",
              "    </tr>\n",
              "  </thead>\n",
              "  <tbody>\n",
              "    <tr>\n",
              "      <th>2021-06-29 10:40:00</th>\n",
              "      <td>466.0</td>\n",
              "    </tr>\n",
              "    <tr>\n",
              "      <th>2021-06-29 10:42:00</th>\n",
              "      <td>470.0</td>\n",
              "    </tr>\n",
              "    <tr>\n",
              "      <th>2021-06-29 10:46:00</th>\n",
              "      <td>480.0</td>\n",
              "    </tr>\n",
              "    <tr>\n",
              "      <th>2021-06-29 10:48:00</th>\n",
              "      <td>476.0</td>\n",
              "    </tr>\n",
              "    <tr>\n",
              "      <th>2021-06-29 11:00:00</th>\n",
              "      <td>458.0</td>\n",
              "    </tr>\n",
              "  </tbody>\n",
              "</table>\n",
              "</div>"
            ],
            "text/plain": [
              "                     value\n",
              "timestamp                 \n",
              "2021-06-29 10:40:00  466.0\n",
              "2021-06-29 10:42:00  470.0\n",
              "2021-06-29 10:46:00  480.0\n",
              "2021-06-29 10:48:00  476.0\n",
              "2021-06-29 11:00:00  458.0"
            ]
          },
          "metadata": {}
        }
      ]
    },
    {
      "cell_type": "markdown",
      "metadata": {
        "id": "mSoMqPdosusS"
      },
      "source": [
        "# Testing stationarity "
      ]
    },
    {
      "cell_type": "code",
      "metadata": {
        "colab": {
          "base_uri": "https://localhost:8080/"
        },
        "id": "Bo-9aXBdt1vS",
        "outputId": "fe093636-8f76-4cb6-f254-0e8496fd1207"
      },
      "source": [
        "from statsmodels.tsa.stattools import adfuller\n",
        "\n",
        "def test_stationarity(ts_data, column='', signif=0.05, series=False):\n",
        "    if series:\n",
        "        adf_test = adfuller(ts_data, autolag='AIC')\n",
        "    else:\n",
        "        adf_test = adfuller(ts_data[column], autolag='AIC')\n",
        "    p_value = adf_test[1]\n",
        "    if p_value <= signif:\n",
        "        test_result = \"Stationary\"\n",
        "    else:\n",
        "        test_result = \"Non-Stationary\"\n",
        "    return test_result\n",
        "\n",
        "adf_test_results = {\n",
        "    col: test_stationarity(df, col)\n",
        "    for col in df.columns\n",
        "}\n",
        "adf_test_results    "
      ],
      "execution_count": 12,
      "outputs": [
        {
          "output_type": "execute_result",
          "data": {
            "text/plain": [
              "{'value': 'Stationary'}"
            ]
          },
          "metadata": {},
          "execution_count": 12
        }
      ]
    },
    {
      "cell_type": "markdown",
      "metadata": {
        "id": "eMc5f18RwhE3"
      },
      "source": [
        "Converting to stationary with differencing"
      ]
    },
    {
      "cell_type": "code",
      "metadata": {
        "id": "Qm_2rqozwsdU"
      },
      "source": [
        "def differencing(data, column, order):\n",
        "    differenced_data = data[column].diff(order)\n",
        "    differenced_data.fillna(differenced_data.mean(), inplace=True)\n",
        "    return differenced_data\n",
        "for col in df.columns:\n",
        "    df[col] = differencing(df, col, 1)"
      ],
      "execution_count": 13,
      "outputs": []
    },
    {
      "cell_type": "markdown",
      "metadata": {
        "id": "Ou0RpT_SwxoM"
      },
      "source": [
        "Test for stationarity now"
      ]
    },
    {
      "cell_type": "code",
      "metadata": {
        "colab": {
          "base_uri": "https://localhost:8080/"
        },
        "id": "ooez9LD8w49a",
        "outputId": "6c8eb938-7124-4588-ea87-4c21053a83fb"
      },
      "source": [
        "adf_test_results = {\n",
        "    col: test_stationarity(df, col)\n",
        "    for col in df.columns\n",
        "}\n",
        "adf_test_results    "
      ],
      "execution_count": 14,
      "outputs": [
        {
          "output_type": "execute_result",
          "data": {
            "text/plain": [
              "{'value': 'Stationary'}"
            ]
          },
          "metadata": {},
          "execution_count": 14
        }
      ]
    }
  ]
}