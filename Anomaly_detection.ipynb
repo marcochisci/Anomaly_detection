{
  "nbformat": 4,
  "nbformat_minor": 0,
  "metadata": {
    "colab": {
      "name": "Anomaly_detection.ipynb",
      "provenance": [],
      "collapsed_sections": [
        "njhT4x0rzE97",
        "-sZSTxiKzbB-",
        "JqqvJo3i8PGC",
        "DVwLv8Nqydbb",
        "tdLO4gaw0b_f",
        "mSoMqPdosusS"
      ],
      "authorship_tag": "ABX9TyOueZO+Gf3a/yHhJGacT6sr",
      "include_colab_link": true
    },
    "kernelspec": {
      "name": "python3",
      "display_name": "Python 3"
    },
    "language_info": {
      "name": "python"
    }
  },
  "cells": [
    {
      "cell_type": "markdown",
      "metadata": {
        "id": "view-in-github",
        "colab_type": "text"
      },
      "source": [
        "<a href=\"https://colab.research.google.com/github/marcochisci/Anomaly_detection/blob/main/Anomaly_detection.ipynb\" target=\"_parent\"><img src=\"https://colab.research.google.com/assets/colab-badge.svg\" alt=\"Open In Colab\"/></a>"
      ]
    },
    {
      "cell_type": "markdown",
      "metadata": {
        "id": "njhT4x0rzE97"
      },
      "source": [
        "# Install Apache Spark 3.0.0"
      ]
    },
    {
      "cell_type": "code",
      "metadata": {
        "id": "RZM6XcSMy4IM"
      },
      "source": [
        "# install Java8\n",
        "!apt-get install openjdk-8-jdk-headless -qq > /dev/null\n",
        "# download spark3.0.0\n",
        "!wget -q https://archive.apache.org/dist/spark/spark-3.0.0/spark-3.0.0-bin-hadoop3.2.tgz\n",
        "# unzip it\n",
        "!tar xf spark-3.0.0-bin-hadoop3.2.tgz\n",
        "# install findspark \n",
        "!pip install -q findspark"
      ],
      "execution_count": null,
      "outputs": []
    },
    {
      "cell_type": "markdown",
      "metadata": {
        "id": "-sZSTxiKzbB-"
      },
      "source": [
        "# Set Environment Variables"
      ]
    },
    {
      "cell_type": "code",
      "metadata": {
        "id": "DowTY2Lmzi9v"
      },
      "source": [
        "import os\n",
        "os.environ[\"JAVA_HOME\"] = \"/usr/lib/jvm/java-8-openjdk-amd64\"\n",
        "os.environ[\"SPARK_HOME\"] = \"/content/spark-3.0.0-bin-hadoop3.2\""
      ],
      "execution_count": null,
      "outputs": []
    },
    {
      "cell_type": "markdown",
      "metadata": {
        "id": "JqqvJo3i8PGC"
      },
      "source": [
        "#Create local spark session\n"
      ]
    },
    {
      "cell_type": "code",
      "metadata": {
        "id": "iTk4DGI98RLW"
      },
      "source": [
        "import findspark\n",
        "findspark.init()\n",
        "from pyspark.context import SparkContext\n",
        "from pyspark.sql.session import SparkSession\n",
        "sc = SparkContext('local')\n",
        "spark = SparkSession(sc)"
      ],
      "execution_count": null,
      "outputs": []
    },
    {
      "cell_type": "markdown",
      "metadata": {
        "id": "v7y-c6hXzql5"
      },
      "source": [
        "Installation Test and pyspark version"
      ]
    },
    {
      "cell_type": "code",
      "metadata": {
        "colab": {
          "base_uri": "https://localhost:8080/"
        },
        "id": "tyr7niAHzuAF",
        "outputId": "670e0620-916a-4c2b-f5a4-02b6571a7ec6"
      },
      "source": [
        "#create a test schema\n",
        "from pyspark.sql.types import *\n",
        "from pyspark.sql import Row\n",
        "\n",
        "schema = StructType([StructField('name', StringType()), StructField('age',IntegerType())])\n",
        "rows = [Row(name='Severin', age=33), Row(name='John', age=48)]\n",
        "df = spark.createDataFrame(rows, schema)\n",
        "\n",
        "df.printSchema()\n",
        "df.show()\n",
        "\n",
        "\n",
        "# Check the pyspark version\n",
        "import pyspark\n",
        "print(pyspark.__version__)\n"
      ],
      "execution_count": null,
      "outputs": [
        {
          "output_type": "stream",
          "name": "stdout",
          "text": [
            "root\n",
            " |-- name: string (nullable = true)\n",
            " |-- age: integer (nullable = true)\n",
            "\n",
            "+-------+---+\n",
            "|   name|age|\n",
            "+-------+---+\n",
            "|Severin| 33|\n",
            "|   John| 48|\n",
            "+-------+---+\n",
            "\n",
            "3.0.0\n"
          ]
        }
      ]
    },
    {
      "cell_type": "markdown",
      "metadata": {
        "id": "Slvyz6Ils5MI"
      },
      "source": [
        "# Airquino Table Data"
      ]
    },
    {
      "cell_type": "code",
      "metadata": {
        "colab": {
          "base_uri": "https://localhost:8080/",
          "height": 442
        },
        "id": "ig7ZKLKlirHv",
        "outputId": "1f110174-cea1-4a74-dc7b-818c09f820e2"
      },
      "source": [
        "import pandas as pd\n",
        "import psycopg2\n",
        "import datetime\n",
        "import matplotlib.pyplot as plt\n",
        "import matplotlib.ticker as ticker\n",
        "import matplotlib.dates as mdates\n",
        "\n",
        "\n",
        "conn = psycopg2.connect(host='playground.magentalab.it', port='55432', database='airqino', user='datareader', password='homntLZnlhQd9prtVA9SFezQek')\n",
        "\n",
        "query = \"\"\"select * from crosstab(\n",
        "  'select sd.data_acquired as timestamp, s.sensor_type ,  sd.float_value as value \n",
        "from station_data sd join sensor s on s.id = sd.sensor_id\n",
        "where sd.data_acquired >= to_timestamp(''2021-06-01 00:00:00'', ''YYYY-mm-dd HH24:MI:SS'')\n",
        "and sd.station_id = 23284701 order by sd.data_acquired asc, 1'\n",
        " , $$VALUES ('O3'::varchar), ('PM2.5'::varchar), ('CO2'::varchar), ('Temp. int.'::varchar), ('T'::varchar)\n",
        " , ('PM10'::varchar), ('RH'::varchar), ('NO2'::varchar), ('CO'::varchar), ('VOC'::varchar)$$\n",
        ") AS value (\"Dates\" timestamp, \"O3\" float, \"PM2.5\" float, \"CO2\" float, \"Temp. int.\" float, \"T\" float, \"PM10\" float,\n",
        "\"RH\" float, \"NO2\" float, \"CO\" float, \"VOC\" float);\"\"\".format(29510692, 23284701)  #23284701 is a specific station\n",
        "\n",
        "df = pd.read_sql(query, conn)\n",
        "df= df.set_index('Dates')\n",
        "\n",
        "#removing nans\n",
        "df = df.dropna()\n",
        "\n",
        "display(df.head(10))"
      ],
      "execution_count": 1,
      "outputs": [
        {
          "output_type": "stream",
          "name": "stderr",
          "text": [
            "/usr/local/lib/python3.7/dist-packages/psycopg2/__init__.py:144: UserWarning: The psycopg2 wheel package will be renamed from release 2.8; in order to keep installing from binary please use \"pip install psycopg2-binary\" instead. For details see: <http://initd.org/psycopg/docs/install.html#binary-install-from-pypi>.\n",
            "  \"\"\")\n"
          ]
        },
        {
          "output_type": "display_data",
          "data": {
            "text/html": [
              "<div>\n",
              "<style scoped>\n",
              "    .dataframe tbody tr th:only-of-type {\n",
              "        vertical-align: middle;\n",
              "    }\n",
              "\n",
              "    .dataframe tbody tr th {\n",
              "        vertical-align: top;\n",
              "    }\n",
              "\n",
              "    .dataframe thead th {\n",
              "        text-align: right;\n",
              "    }\n",
              "</style>\n",
              "<table border=\"1\" class=\"dataframe\">\n",
              "  <thead>\n",
              "    <tr style=\"text-align: right;\">\n",
              "      <th></th>\n",
              "      <th>O3</th>\n",
              "      <th>PM2.5</th>\n",
              "      <th>CO2</th>\n",
              "      <th>Temp. int.</th>\n",
              "      <th>T</th>\n",
              "      <th>PM10</th>\n",
              "      <th>RH</th>\n",
              "      <th>NO2</th>\n",
              "      <th>CO</th>\n",
              "      <th>VOC</th>\n",
              "    </tr>\n",
              "    <tr>\n",
              "      <th>Dates</th>\n",
              "      <th></th>\n",
              "      <th></th>\n",
              "      <th></th>\n",
              "      <th></th>\n",
              "      <th></th>\n",
              "      <th></th>\n",
              "      <th></th>\n",
              "      <th></th>\n",
              "      <th></th>\n",
              "      <th></th>\n",
              "    </tr>\n",
              "  </thead>\n",
              "  <tbody>\n",
              "    <tr>\n",
              "      <th>2021-06-29 10:40:00</th>\n",
              "      <td>466.0</td>\n",
              "      <td>2.0</td>\n",
              "      <td>414.0</td>\n",
              "      <td>3896.0</td>\n",
              "      <td>276.0</td>\n",
              "      <td>9.0</td>\n",
              "      <td>512.0</td>\n",
              "      <td>301.0</td>\n",
              "      <td>226.0</td>\n",
              "      <td>358.0</td>\n",
              "    </tr>\n",
              "    <tr>\n",
              "      <th>2021-06-29 10:42:00</th>\n",
              "      <td>470.0</td>\n",
              "      <td>2.0</td>\n",
              "      <td>413.0</td>\n",
              "      <td>3983.0</td>\n",
              "      <td>279.0</td>\n",
              "      <td>11.0</td>\n",
              "      <td>513.0</td>\n",
              "      <td>335.0</td>\n",
              "      <td>227.0</td>\n",
              "      <td>366.0</td>\n",
              "    </tr>\n",
              "    <tr>\n",
              "      <th>2021-06-29 10:46:00</th>\n",
              "      <td>480.0</td>\n",
              "      <td>2.0</td>\n",
              "      <td>414.0</td>\n",
              "      <td>4147.0</td>\n",
              "      <td>286.0</td>\n",
              "      <td>10.0</td>\n",
              "      <td>487.0</td>\n",
              "      <td>291.0</td>\n",
              "      <td>226.0</td>\n",
              "      <td>365.0</td>\n",
              "    </tr>\n",
              "    <tr>\n",
              "      <th>2021-06-29 10:48:00</th>\n",
              "      <td>476.0</td>\n",
              "      <td>2.0</td>\n",
              "      <td>413.0</td>\n",
              "      <td>4179.0</td>\n",
              "      <td>287.0</td>\n",
              "      <td>8.0</td>\n",
              "      <td>477.0</td>\n",
              "      <td>282.0</td>\n",
              "      <td>224.0</td>\n",
              "      <td>365.0</td>\n",
              "    </tr>\n",
              "    <tr>\n",
              "      <th>2021-06-29 11:00:00</th>\n",
              "      <td>458.0</td>\n",
              "      <td>1.0</td>\n",
              "      <td>410.0</td>\n",
              "      <td>4291.0</td>\n",
              "      <td>292.0</td>\n",
              "      <td>7.0</td>\n",
              "      <td>419.0</td>\n",
              "      <td>240.0</td>\n",
              "      <td>216.0</td>\n",
              "      <td>367.0</td>\n",
              "    </tr>\n",
              "    <tr>\n",
              "      <th>2021-06-29 11:03:00</th>\n",
              "      <td>453.0</td>\n",
              "      <td>1.0</td>\n",
              "      <td>410.0</td>\n",
              "      <td>4301.0</td>\n",
              "      <td>292.0</td>\n",
              "      <td>4.0</td>\n",
              "      <td>394.0</td>\n",
              "      <td>229.0</td>\n",
              "      <td>212.0</td>\n",
              "      <td>367.0</td>\n",
              "    </tr>\n",
              "    <tr>\n",
              "      <th>2021-06-29 11:06:00</th>\n",
              "      <td>447.0</td>\n",
              "      <td>1.0</td>\n",
              "      <td>410.0</td>\n",
              "      <td>4315.0</td>\n",
              "      <td>293.0</td>\n",
              "      <td>5.0</td>\n",
              "      <td>393.0</td>\n",
              "      <td>245.0</td>\n",
              "      <td>211.0</td>\n",
              "      <td>371.0</td>\n",
              "    </tr>\n",
              "    <tr>\n",
              "      <th>2021-06-29 11:07:00</th>\n",
              "      <td>450.0</td>\n",
              "      <td>1.0</td>\n",
              "      <td>409.0</td>\n",
              "      <td>4323.0</td>\n",
              "      <td>295.0</td>\n",
              "      <td>5.0</td>\n",
              "      <td>395.0</td>\n",
              "      <td>253.0</td>\n",
              "      <td>216.0</td>\n",
              "      <td>377.0</td>\n",
              "    </tr>\n",
              "    <tr>\n",
              "      <th>2021-06-29 11:09:00</th>\n",
              "      <td>454.0</td>\n",
              "      <td>1.0</td>\n",
              "      <td>409.0</td>\n",
              "      <td>4337.0</td>\n",
              "      <td>296.0</td>\n",
              "      <td>6.0</td>\n",
              "      <td>400.0</td>\n",
              "      <td>253.0</td>\n",
              "      <td>217.0</td>\n",
              "      <td>379.0</td>\n",
              "    </tr>\n",
              "    <tr>\n",
              "      <th>2021-06-29 11:10:00</th>\n",
              "      <td>457.0</td>\n",
              "      <td>1.0</td>\n",
              "      <td>409.0</td>\n",
              "      <td>4348.0</td>\n",
              "      <td>298.0</td>\n",
              "      <td>6.0</td>\n",
              "      <td>407.0</td>\n",
              "      <td>260.0</td>\n",
              "      <td>221.0</td>\n",
              "      <td>381.0</td>\n",
              "    </tr>\n",
              "  </tbody>\n",
              "</table>\n",
              "</div>"
            ],
            "text/plain": [
              "                        O3  PM2.5    CO2  ...    NO2     CO    VOC\n",
              "Dates                                     ...                     \n",
              "2021-06-29 10:40:00  466.0    2.0  414.0  ...  301.0  226.0  358.0\n",
              "2021-06-29 10:42:00  470.0    2.0  413.0  ...  335.0  227.0  366.0\n",
              "2021-06-29 10:46:00  480.0    2.0  414.0  ...  291.0  226.0  365.0\n",
              "2021-06-29 10:48:00  476.0    2.0  413.0  ...  282.0  224.0  365.0\n",
              "2021-06-29 11:00:00  458.0    1.0  410.0  ...  240.0  216.0  367.0\n",
              "2021-06-29 11:03:00  453.0    1.0  410.0  ...  229.0  212.0  367.0\n",
              "2021-06-29 11:06:00  447.0    1.0  410.0  ...  245.0  211.0  371.0\n",
              "2021-06-29 11:07:00  450.0    1.0  409.0  ...  253.0  216.0  377.0\n",
              "2021-06-29 11:09:00  454.0    1.0  409.0  ...  253.0  217.0  379.0\n",
              "2021-06-29 11:10:00  457.0    1.0  409.0  ...  260.0  221.0  381.0\n",
              "\n",
              "[10 rows x 10 columns]"
            ]
          },
          "metadata": {}
        }
      ]
    },
    {
      "cell_type": "markdown",
      "metadata": {
        "id": "Hy6kLUKVyE6c"
      },
      "source": [
        "Plots"
      ]
    },
    {
      "cell_type": "code",
      "metadata": {
        "colab": {
          "base_uri": "https://localhost:8080/",
          "height": 724
        },
        "id": "aDYrc6h4xhgl",
        "outputId": "a7540edf-ed9f-4156-e098-e099ade8d02e"
      },
      "source": [
        "import pandas as pd\n",
        "import numpy as np\n",
        "import matplotlib.pyplot as plt\n",
        "%matplotlib inline\n",
        "\n",
        "# Plot\n",
        "fig, axes = plt.subplots(nrows=4, ncols=2, dpi=120, figsize=(10,6))\n",
        "for i, ax in enumerate(axes.flatten()):\n",
        "    data = df[df.columns[i]]\n",
        "    ax.plot(data, color='red', linewidth=1)\n",
        "    # Decorations\n",
        "    ax.set_title(df.columns[i])\n",
        "    ax.xaxis.set_ticks_position('none')\n",
        "    ax.yaxis.set_ticks_position('none')\n",
        "    ax.spines[\"top\"].set_alpha(0)\n",
        "    ax.tick_params(labelsize=6)\n",
        "\n",
        "plt.tight_layout();"
      ],
      "execution_count": 2,
      "outputs": [
        {
          "output_type": "display_data",
          "data": {
            "image/png": "[encoded data removed]",
            "text/plain": [
              "<Figure size 1200x720 with 8 Axes>"
            ]
          },
          "metadata": {
            "needs_background": "light"
          }
        }
      ]
    },
    {
      "cell_type": "markdown",
      "metadata": {
        "id": "DVwLv8Nqydbb"
      },
      "source": [
        "# Testing for Correlation\n",
        "Granger’s causality tests the null hypothesis that the coefficients of past values in the regression equation is zero.\n",
        "\n",
        "In simpler terms, the past values of time series (X) do not cause the other series (Y). So, if the p-value obtained from the test is lesser than the significance level of 0.05, then, you can safely reject the null hypothesis.\n",
        "\n",
        "\n"
      ]
    },
    {
      "cell_type": "code",
      "metadata": {
        "colab": {
          "base_uri": "https://localhost:8080/",
          "height": 410
        },
        "id": "Di09xCqyyfd3",
        "outputId": "0008792c-b28e-4148-bb65-deb40835a22f"
      },
      "source": [
        "from statsmodels.tsa.stattools import grangercausalitytests\n",
        "maxlag=12\n",
        "test = 'ssr_chi2test'\n",
        "def grangers_causation_matrix(data, variables, test='ssr_chi2test', verbose=False):    \n",
        "    \"\"\"Check Granger Causality of all possible combinations of the Time series.\n",
        "    The rows are the response variable, columns are predictors. The values in the table \n",
        "    are the P-Values. P-Values lesser than the significance level (0.05), implies \n",
        "    the Null Hypothesis that the coefficients of the corresponding past values is \n",
        "    zero, that is, the X does not cause Y can be rejected.\n",
        "\n",
        "    data      : pandas dataframe containing the time series variables\n",
        "    variables : list containing names of the time series variables.\n",
        "    \"\"\"\n",
        "    df = pd.DataFrame(np.zeros((len(variables), len(variables))), columns=variables, index=variables)\n",
        "    for c in df.columns:\n",
        "        for r in df.index:\n",
        "            test_result = grangercausalitytests(data[[r, c]], maxlag=maxlag, verbose=False)\n",
        "            p_values = [round(test_result[i+1][0][test][1],4) for i in range(maxlag)]\n",
        "            if verbose: print(f'Y = {r}, X = {c}, P Values = {p_values}')\n",
        "            min_p_value = np.min(p_values)\n",
        "            df.loc[r, c] = min_p_value\n",
        "    df.columns = [var + '_x' for var in variables]\n",
        "    df.index = [var + '_y' for var in variables]\n",
        "    return df\n",
        "\n",
        "grangers_causation_matrix(df, variables = df.columns)  "
      ],
      "execution_count": null,
      "outputs": [
        {
          "output_type": "stream",
          "name": "stderr",
          "text": [
            "/usr/local/lib/python3.7/dist-packages/statsmodels/tools/_testing.py:19: FutureWarning: pandas.util.testing is deprecated. Use the functions in the public API at pandas.testing instead.\n",
            "  import pandas.util.testing as tm\n"
          ]
        },
        {
          "output_type": "execute_result",
          "data": {
            "text/html": [
              "<div>\n",
              "<style scoped>\n",
              "    .dataframe tbody tr th:only-of-type {\n",
              "        vertical-align: middle;\n",
              "    }\n",
              "\n",
              "    .dataframe tbody tr th {\n",
              "        vertical-align: top;\n",
              "    }\n",
              "\n",
              "    .dataframe thead th {\n",
              "        text-align: right;\n",
              "    }\n",
              "</style>\n",
              "<table border=\"1\" class=\"dataframe\">\n",
              "  <thead>\n",
              "    <tr style=\"text-align: right;\">\n",
              "      <th></th>\n",
              "      <th>O3_x</th>\n",
              "      <th>PM2.5_x</th>\n",
              "      <th>CO2_x</th>\n",
              "      <th>Temp. int._x</th>\n",
              "      <th>T_x</th>\n",
              "      <th>PM10_x</th>\n",
              "      <th>RH_x</th>\n",
              "      <th>NO2_x</th>\n",
              "      <th>CO_x</th>\n",
              "      <th>VOC_x</th>\n",
              "    </tr>\n",
              "  </thead>\n",
              "  <tbody>\n",
              "    <tr>\n",
              "      <th>O3_y</th>\n",
              "      <td>1.0</td>\n",
              "      <td>0.0</td>\n",
              "      <td>0.0</td>\n",
              "      <td>0.0000</td>\n",
              "      <td>0.0000</td>\n",
              "      <td>0.0000</td>\n",
              "      <td>0.0</td>\n",
              "      <td>0.0</td>\n",
              "      <td>0.0</td>\n",
              "      <td>0.0</td>\n",
              "    </tr>\n",
              "    <tr>\n",
              "      <th>PM2.5_y</th>\n",
              "      <td>0.0</td>\n",
              "      <td>1.0</td>\n",
              "      <td>0.0</td>\n",
              "      <td>0.0000</td>\n",
              "      <td>0.0000</td>\n",
              "      <td>0.0000</td>\n",
              "      <td>0.0</td>\n",
              "      <td>0.0</td>\n",
              "      <td>0.0</td>\n",
              "      <td>0.0</td>\n",
              "    </tr>\n",
              "    <tr>\n",
              "      <th>CO2_y</th>\n",
              "      <td>0.0</td>\n",
              "      <td>0.0</td>\n",
              "      <td>1.0</td>\n",
              "      <td>0.0000</td>\n",
              "      <td>0.0000</td>\n",
              "      <td>0.0000</td>\n",
              "      <td>0.0</td>\n",
              "      <td>0.0</td>\n",
              "      <td>0.0</td>\n",
              "      <td>0.0</td>\n",
              "    </tr>\n",
              "    <tr>\n",
              "      <th>Temp. int._y</th>\n",
              "      <td>0.0</td>\n",
              "      <td>0.0</td>\n",
              "      <td>0.0</td>\n",
              "      <td>1.0000</td>\n",
              "      <td>0.0000</td>\n",
              "      <td>0.2382</td>\n",
              "      <td>0.0</td>\n",
              "      <td>0.0</td>\n",
              "      <td>0.0</td>\n",
              "      <td>0.0</td>\n",
              "    </tr>\n",
              "    <tr>\n",
              "      <th>T_y</th>\n",
              "      <td>0.0</td>\n",
              "      <td>0.0</td>\n",
              "      <td>0.0</td>\n",
              "      <td>0.0000</td>\n",
              "      <td>1.0000</td>\n",
              "      <td>0.0031</td>\n",
              "      <td>0.0</td>\n",
              "      <td>0.0</td>\n",
              "      <td>0.0</td>\n",
              "      <td>0.0</td>\n",
              "    </tr>\n",
              "    <tr>\n",
              "      <th>PM10_y</th>\n",
              "      <td>0.0</td>\n",
              "      <td>0.0</td>\n",
              "      <td>0.0</td>\n",
              "      <td>0.0074</td>\n",
              "      <td>0.0045</td>\n",
              "      <td>1.0000</td>\n",
              "      <td>0.0</td>\n",
              "      <td>0.0</td>\n",
              "      <td>0.0</td>\n",
              "      <td>0.0</td>\n",
              "    </tr>\n",
              "    <tr>\n",
              "      <th>RH_y</th>\n",
              "      <td>0.0</td>\n",
              "      <td>0.0</td>\n",
              "      <td>0.0</td>\n",
              "      <td>0.0000</td>\n",
              "      <td>0.0000</td>\n",
              "      <td>0.0133</td>\n",
              "      <td>1.0</td>\n",
              "      <td>0.0</td>\n",
              "      <td>0.0</td>\n",
              "      <td>0.0</td>\n",
              "    </tr>\n",
              "    <tr>\n",
              "      <th>NO2_y</th>\n",
              "      <td>0.0</td>\n",
              "      <td>0.0</td>\n",
              "      <td>0.0</td>\n",
              "      <td>0.0000</td>\n",
              "      <td>0.0000</td>\n",
              "      <td>0.0000</td>\n",
              "      <td>0.0</td>\n",
              "      <td>1.0</td>\n",
              "      <td>0.0</td>\n",
              "      <td>0.0</td>\n",
              "    </tr>\n",
              "    <tr>\n",
              "      <th>CO_y</th>\n",
              "      <td>0.0</td>\n",
              "      <td>0.0</td>\n",
              "      <td>0.0</td>\n",
              "      <td>0.0000</td>\n",
              "      <td>0.0000</td>\n",
              "      <td>0.2258</td>\n",
              "      <td>0.0</td>\n",
              "      <td>0.0</td>\n",
              "      <td>1.0</td>\n",
              "      <td>0.0</td>\n",
              "    </tr>\n",
              "    <tr>\n",
              "      <th>VOC_y</th>\n",
              "      <td>0.0</td>\n",
              "      <td>0.0</td>\n",
              "      <td>0.0</td>\n",
              "      <td>0.0000</td>\n",
              "      <td>0.0000</td>\n",
              "      <td>0.0000</td>\n",
              "      <td>0.0</td>\n",
              "      <td>0.0</td>\n",
              "      <td>0.0</td>\n",
              "      <td>1.0</td>\n",
              "    </tr>\n",
              "  </tbody>\n",
              "</table>\n",
              "</div>"
            ],
            "text/plain": [
              "              O3_x  PM2.5_x  CO2_x  Temp. int._x  ...  RH_x  NO2_x  CO_x  VOC_x\n",
              "O3_y           1.0      0.0    0.0        0.0000  ...   0.0    0.0   0.0    0.0\n",
              "PM2.5_y        0.0      1.0    0.0        0.0000  ...   0.0    0.0   0.0    0.0\n",
              "CO2_y          0.0      0.0    1.0        0.0000  ...   0.0    0.0   0.0    0.0\n",
              "Temp. int._y   0.0      0.0    0.0        1.0000  ...   0.0    0.0   0.0    0.0\n",
              "T_y            0.0      0.0    0.0        0.0000  ...   0.0    0.0   0.0    0.0\n",
              "PM10_y         0.0      0.0    0.0        0.0074  ...   0.0    0.0   0.0    0.0\n",
              "RH_y           0.0      0.0    0.0        0.0000  ...   1.0    0.0   0.0    0.0\n",
              "NO2_y          0.0      0.0    0.0        0.0000  ...   0.0    1.0   0.0    0.0\n",
              "CO_y           0.0      0.0    0.0        0.0000  ...   0.0    0.0   1.0    0.0\n",
              "VOC_y          0.0      0.0    0.0        0.0000  ...   0.0    0.0   0.0    1.0\n",
              "\n",
              "[10 rows x 10 columns]"
            ]
          },
          "metadata": {},
          "execution_count": 3
        }
      ]
    },
    {
      "cell_type": "markdown",
      "metadata": {
        "id": "B6WLjbVYzzIy"
      },
      "source": [
        "If a given p-value is < significance level (0.05), then, the corresponding X series (column) causes the Y (row)."
      ]
    },
    {
      "cell_type": "markdown",
      "metadata": {
        "id": "tdLO4gaw0b_f"
      },
      "source": [
        "# Testing for Cointegration\n",
        "When two or more time series are cointegrated, it means they have a statistically significant relationship.\n"
      ]
    },
    {
      "cell_type": "code",
      "metadata": {
        "colab": {
          "base_uri": "https://localhost:8080/"
        },
        "id": "3_krNQ5C0WG0",
        "outputId": "29bec41a-efae-477d-eac2-6bd2c6b0becc"
      },
      "source": [
        "from statsmodels.tsa.vector_ar.vecm import coint_johansen\n",
        "\n",
        "def cointegration_test(df, alpha=0.05): \n",
        "    \"\"\"Perform Johanson's Cointegration Test and Report Summary\"\"\"\n",
        "    out = coint_johansen(df,-1,5)\n",
        "    d = {'0.90':0, '0.95':1, '0.99':2}\n",
        "    traces = out.lr1\n",
        "    cvts = out.cvt[:, d[str(1-alpha)]]\n",
        "    def adjust(val, length= 6): return str(val).ljust(length)\n",
        "\n",
        "    # Summary\n",
        "    print('Name   ::  Test Stat > C(95%)    =>   Signif  \\n', '--'*20)\n",
        "    for col, trace, cvt in zip(df.columns, traces, cvts):\n",
        "        print(adjust(col), ':: ', adjust(round(trace,2), 9), \">\", adjust(cvt, 8), ' =>  ' , trace > cvt)\n",
        "\n",
        "cointegration_test(df)"
      ],
      "execution_count": null,
      "outputs": [
        {
          "output_type": "stream",
          "name": "stdout",
          "text": [
            "Name   ::  Test Stat > C(95%)    =>   Signif  \n",
            " ----------------------------------------\n",
            "O3     ::  9071.76   > 219.4051  =>   True\n",
            "PM2.5  ::  5401.81   > 179.5199  =>   True\n",
            "CO2    ::  2963.8    > 143.6691  =>   True\n",
            "Temp. int. ::  1511.32   > 111.7797  =>   True\n",
            "T      ::  934.26    > 83.9383   =>   True\n",
            "PM10   ::  569.28    > 60.0627   =>   True\n",
            "RH     ::  301.55    > 40.1749   =>   True\n",
            "NO2    ::  111.88    > 24.2761   =>   True\n",
            "CO     ::  45.52     > 12.3212   =>   True\n",
            "VOC    ::  0.04      > 4.1296    =>   False\n"
          ]
        }
      ]
    },
    {
      "cell_type": "markdown",
      "metadata": {
        "id": "mSoMqPdosusS"
      },
      "source": [
        "# Testing stationarity "
      ]
    },
    {
      "cell_type": "markdown",
      "metadata": {
        "id": "TPJRpdI2yUa8"
      },
      "source": [
        "Test first 3 colums: O3, PM2.5, CO2"
      ]
    },
    {
      "cell_type": "code",
      "metadata": {
        "colab": {
          "base_uri": "https://localhost:8080/"
        },
        "id": "Bo-9aXBdt1vS",
        "outputId": "be2a491a-fba6-454f-d30d-bee113f91982"
      },
      "source": [
        "from statsmodels.tsa.stattools import adfuller\n",
        "\n",
        "def test_stationarity(ts_data, column='', signif=0.05, series=False):\n",
        "    if series:\n",
        "        adf_test = adfuller(ts_data, autolag='AIC')\n",
        "    else:\n",
        "        adf_test = adfuller(ts_data[column], autolag='AIC')\n",
        "    p_value = adf_test[1]                   \n",
        "    if p_value <= signif:\n",
        "        test_result = \"Stationary\"\n",
        "    else:\n",
        "        test_result = \"Non-Stationary\"\n",
        "    return test_result\n",
        "\n",
        "adf_test_results1 = {\n",
        "    col: test_stationarity(df, col)\n",
        "    for col in df[df.columns[0:3]].columns\n",
        "}\n",
        "adf_test_results1    "
      ],
      "execution_count": null,
      "outputs": [
        {
          "output_type": "stream",
          "name": "stderr",
          "text": [
            "/usr/local/lib/python3.7/dist-packages/statsmodels/tools/_testing.py:19: FutureWarning: pandas.util.testing is deprecated. Use the functions in the public API at pandas.testing instead.\n",
            "  import pandas.util.testing as tm\n"
          ]
        },
        {
          "output_type": "execute_result",
          "data": {
            "text/plain": [
              "{'CO2': 'Stationary', 'O3': 'Stationary', 'PM2.5': 'Stationary'}"
            ]
          },
          "metadata": {},
          "execution_count": 2
        }
      ]
    },
    {
      "cell_type": "markdown",
      "metadata": {
        "id": "82ep9uMlyy3p"
      },
      "source": [
        "Test T, Temp. int. and PM10"
      ]
    },
    {
      "cell_type": "code",
      "metadata": {
        "colab": {
          "base_uri": "https://localhost:8080/"
        },
        "id": "7sWuv6DMye4_",
        "outputId": "9edb602a-97f9-4f02-932b-08d744c5449d"
      },
      "source": [
        "adf_test_results2 = {\n",
        "    col: test_stationarity(df, col)\n",
        "    for col in df[df.columns[3:6]].columns\n",
        "}\n",
        "adf_test_results2   "
      ],
      "execution_count": null,
      "outputs": [
        {
          "output_type": "execute_result",
          "data": {
            "text/plain": [
              "{'PM10': 'Stationary', 'T': 'Stationary', 'Temp. int.': 'Stationary'}"
            ]
          },
          "metadata": {},
          "execution_count": 3
        }
      ]
    },
    {
      "cell_type": "markdown",
      "metadata": {
        "id": "b5F23GtmzE3m"
      },
      "source": [
        "Test RH, NO2, CO and VOC"
      ]
    },
    {
      "cell_type": "code",
      "metadata": {
        "colab": {
          "base_uri": "https://localhost:8080/"
        },
        "id": "DNcRovvCyo2G",
        "outputId": "b7152741-f1b6-41bd-9f22-986cf2799c79"
      },
      "source": [
        "adf_test_results3 = {\n",
        "    col: test_stationarity(df, col)\n",
        "    for col in df[df.columns[6:10]].columns\n",
        "}\n",
        "adf_test_results3   "
      ],
      "execution_count": null,
      "outputs": [
        {
          "output_type": "execute_result",
          "data": {
            "text/plain": [
              "{'CO': 'Stationary',\n",
              " 'NO2': 'Stationary',\n",
              " 'RH': 'Stationary',\n",
              " 'VOC': 'Stationary'}"
            ]
          },
          "metadata": {},
          "execution_count": 4
        }
      ]
    },
    {
      "cell_type": "markdown",
      "metadata": {
        "id": "eMc5f18RwhE3"
      },
      "source": [
        "Converting to stationary with differencing"
      ]
    },
    {
      "cell_type": "code",
      "metadata": {
        "id": "Qm_2rqozwsdU"
      },
      "source": [
        "def differencing(data, column, order):\n",
        "    differenced_data = data[column].diff(order)\n",
        "    differenced_data.fillna(differenced_data.mean(), inplace=True)\n",
        "    return differenced_data\n",
        "for col in df.columns:\n",
        "    df[col] = differencing(df, col, 1)"
      ],
      "execution_count": null,
      "outputs": []
    },
    {
      "cell_type": "markdown",
      "metadata": {
        "id": "Ou0RpT_SwxoM"
      },
      "source": [
        "Test for stationarity now"
      ]
    },
    {
      "cell_type": "markdown",
      "metadata": {
        "id": "7RYSsDzpaa8D"
      },
      "source": [
        "# VAR model"
      ]
    },
    {
      "cell_type": "markdown",
      "metadata": {
        "id": "zTnhpqcGanKR"
      },
      "source": [
        "Finding the best lag for VAR model"
      ]
    },
    {
      "cell_type": "code",
      "metadata": {
        "id": "U6aGV0OZabfz",
        "colab": {
          "base_uri": "https://localhost:8080/"
        },
        "outputId": "74d147bd-6540-40f1-8070-005c678a2ba3"
      },
      "source": [
        "from statsmodels.tsa.api import VAR\n",
        "max_lag = 40\n",
        "var_model = VAR(df)\n",
        "# select the best lag order\n",
        "lag_results = var_model.select_order(max_lag)\n",
        "selected_lag = lag_results.aic\n",
        "print(selected_lag)"
      ],
      "execution_count": 3,
      "outputs": [
        {
          "output_type": "stream",
          "name": "stderr",
          "text": [
            "/usr/local/lib/python3.7/dist-packages/statsmodels/tools/_testing.py:19: FutureWarning: pandas.util.testing is deprecated. Use the functions in the public API at pandas.testing instead.\n",
            "  import pandas.util.testing as tm\n",
            "/usr/local/lib/python3.7/dist-packages/statsmodels/tsa/base/tsa_model.py:219: ValueWarning: A date index has been provided, but it has no associated frequency information and so will be ignored when e.g. forecasting.\n",
            "  ' ignored when e.g. forecasting.', ValueWarning)\n"
          ]
        },
        {
          "output_type": "stream",
          "name": "stdout",
          "text": [
            "40\n"
          ]
        }
      ]
    },
    {
      "cell_type": "markdown",
      "metadata": {
        "id": "DgQw5M9cj9Y7"
      },
      "source": [
        "Finding anomalies"
      ]
    },
    {
      "cell_type": "code",
      "metadata": {
        "id": "3k2ft0XTj_YS",
        "colab": {
          "base_uri": "https://localhost:8080/"
        },
        "outputId": "ec729237-9e7e-4639-8ae4-6884f4667b44"
      },
      "source": [
        "import numpy as np\n",
        "\n",
        "#0 means that is it not an anomaly\n",
        "def find_anomalies(squared_errors):\n",
        "    threshold = np.mean(squared_errors) + np.std(squared_errors)\n",
        "    predictions = (squared_errors >= threshold).astype(int)\n",
        "    return predictions, threshold\n",
        "var = VAR(df)\n",
        "var_fitresults = var.fit(selected_lag)\n",
        "squared_errors = var_fitresults.resid.sum(axis=1) ** 2\n",
        "predictions, threshold = find_anomalies(squared_errors)"
      ],
      "execution_count": 4,
      "outputs": [
        {
          "output_type": "stream",
          "name": "stderr",
          "text": [
            "/usr/local/lib/python3.7/dist-packages/statsmodels/tsa/base/tsa_model.py:219: ValueWarning: A date index has been provided, but it has no associated frequency information and so will be ignored when e.g. forecasting.\n",
            "  ' ignored when e.g. forecasting.', ValueWarning)\n"
          ]
        }
      ]
    },
    {
      "cell_type": "code",
      "metadata": {
        "colab": {
          "base_uri": "https://localhost:8080/",
          "height": 548
        },
        "id": "JCOQpupU3iQM",
        "outputId": "b562b02b-d0c6-4003-9fb1-b6e965c07899"
      },
      "source": [
        "data = df.iloc[selected_lag:, :]\n",
        "data['Predictions'] = predictions.values\n",
        "data"
      ],
      "execution_count": 5,
      "outputs": [
        {
          "output_type": "stream",
          "name": "stderr",
          "text": [
            "/usr/local/lib/python3.7/dist-packages/ipykernel_launcher.py:2: SettingWithCopyWarning: \n",
            "A value is trying to be set on a copy of a slice from a DataFrame.\n",
            "Try using .loc[row_indexer,col_indexer] = value instead\n",
            "\n",
            "See the caveats in the documentation: https://pandas.pydata.org/pandas-docs/stable/user_guide/indexing.html#returning-a-view-versus-a-copy\n",
            "  \n"
          ]
        },
        {
          "output_type": "execute_result",
          "data": {
            "text/html": [
              "<div>\n",
              "<style scoped>\n",
              "    .dataframe tbody tr th:only-of-type {\n",
              "        vertical-align: middle;\n",
              "    }\n",
              "\n",
              "    .dataframe tbody tr th {\n",
              "        vertical-align: top;\n",
              "    }\n",
              "\n",
              "    .dataframe thead th {\n",
              "        text-align: right;\n",
              "    }\n",
              "</style>\n",
              "<table border=\"1\" class=\"dataframe\">\n",
              "  <thead>\n",
              "    <tr style=\"text-align: right;\">\n",
              "      <th></th>\n",
              "      <th>O3</th>\n",
              "      <th>PM2.5</th>\n",
              "      <th>CO2</th>\n",
              "      <th>Temp. int.</th>\n",
              "      <th>T</th>\n",
              "      <th>PM10</th>\n",
              "      <th>RH</th>\n",
              "      <th>NO2</th>\n",
              "      <th>CO</th>\n",
              "      <th>VOC</th>\n",
              "      <th>Predictions</th>\n",
              "    </tr>\n",
              "    <tr>\n",
              "      <th>Dates</th>\n",
              "      <th></th>\n",
              "      <th></th>\n",
              "      <th></th>\n",
              "      <th></th>\n",
              "      <th></th>\n",
              "      <th></th>\n",
              "      <th></th>\n",
              "      <th></th>\n",
              "      <th></th>\n",
              "      <th></th>\n",
              "      <th></th>\n",
              "    </tr>\n",
              "  </thead>\n",
              "  <tbody>\n",
              "    <tr>\n",
              "      <th>2021-06-29 12:46:00</th>\n",
              "      <td>465.0</td>\n",
              "      <td>1.0</td>\n",
              "      <td>407.0</td>\n",
              "      <td>4507.0</td>\n",
              "      <td>314.0</td>\n",
              "      <td>5.0</td>\n",
              "      <td>369.0</td>\n",
              "      <td>216.0</td>\n",
              "      <td>217.0</td>\n",
              "      <td>385.0</td>\n",
              "      <td>0</td>\n",
              "    </tr>\n",
              "    <tr>\n",
              "      <th>2021-06-29 12:48:00</th>\n",
              "      <td>468.0</td>\n",
              "      <td>1.0</td>\n",
              "      <td>407.0</td>\n",
              "      <td>4517.0</td>\n",
              "      <td>315.0</td>\n",
              "      <td>9.0</td>\n",
              "      <td>370.0</td>\n",
              "      <td>219.0</td>\n",
              "      <td>218.0</td>\n",
              "      <td>386.0</td>\n",
              "      <td>0</td>\n",
              "    </tr>\n",
              "    <tr>\n",
              "      <th>2021-06-29 12:51:00</th>\n",
              "      <td>473.0</td>\n",
              "      <td>1.0</td>\n",
              "      <td>408.0</td>\n",
              "      <td>4534.0</td>\n",
              "      <td>317.0</td>\n",
              "      <td>5.0</td>\n",
              "      <td>362.0</td>\n",
              "      <td>228.0</td>\n",
              "      <td>218.0</td>\n",
              "      <td>389.0</td>\n",
              "      <td>0</td>\n",
              "    </tr>\n",
              "    <tr>\n",
              "      <th>2021-06-29 12:54:00</th>\n",
              "      <td>473.0</td>\n",
              "      <td>1.0</td>\n",
              "      <td>408.0</td>\n",
              "      <td>4539.0</td>\n",
              "      <td>316.0</td>\n",
              "      <td>5.0</td>\n",
              "      <td>370.0</td>\n",
              "      <td>214.0</td>\n",
              "      <td>217.0</td>\n",
              "      <td>386.0</td>\n",
              "      <td>0</td>\n",
              "    </tr>\n",
              "    <tr>\n",
              "      <th>2021-06-29 12:55:00</th>\n",
              "      <td>475.0</td>\n",
              "      <td>1.0</td>\n",
              "      <td>408.0</td>\n",
              "      <td>4546.0</td>\n",
              "      <td>315.0</td>\n",
              "      <td>6.0</td>\n",
              "      <td>370.0</td>\n",
              "      <td>225.0</td>\n",
              "      <td>218.0</td>\n",
              "      <td>388.0</td>\n",
              "      <td>0</td>\n",
              "    </tr>\n",
              "    <tr>\n",
              "      <th>...</th>\n",
              "      <td>...</td>\n",
              "      <td>...</td>\n",
              "      <td>...</td>\n",
              "      <td>...</td>\n",
              "      <td>...</td>\n",
              "      <td>...</td>\n",
              "      <td>...</td>\n",
              "      <td>...</td>\n",
              "      <td>...</td>\n",
              "      <td>...</td>\n",
              "      <td>...</td>\n",
              "    </tr>\n",
              "    <tr>\n",
              "      <th>2021-10-04 08:40:00</th>\n",
              "      <td>427.0</td>\n",
              "      <td>9.0</td>\n",
              "      <td>497.0</td>\n",
              "      <td>3054.0</td>\n",
              "      <td>182.0</td>\n",
              "      <td>16.0</td>\n",
              "      <td>999.0</td>\n",
              "      <td>319.0</td>\n",
              "      <td>245.0</td>\n",
              "      <td>372.0</td>\n",
              "      <td>0</td>\n",
              "    </tr>\n",
              "    <tr>\n",
              "      <th>2021-10-04 08:41:00</th>\n",
              "      <td>430.0</td>\n",
              "      <td>9.0</td>\n",
              "      <td>497.0</td>\n",
              "      <td>3066.0</td>\n",
              "      <td>183.0</td>\n",
              "      <td>15.0</td>\n",
              "      <td>999.0</td>\n",
              "      <td>318.0</td>\n",
              "      <td>245.0</td>\n",
              "      <td>371.0</td>\n",
              "      <td>0</td>\n",
              "    </tr>\n",
              "    <tr>\n",
              "      <th>2021-10-04 08:43:00</th>\n",
              "      <td>428.0</td>\n",
              "      <td>9.0</td>\n",
              "      <td>496.0</td>\n",
              "      <td>3074.0</td>\n",
              "      <td>184.0</td>\n",
              "      <td>14.0</td>\n",
              "      <td>999.0</td>\n",
              "      <td>316.0</td>\n",
              "      <td>245.0</td>\n",
              "      <td>369.0</td>\n",
              "      <td>0</td>\n",
              "    </tr>\n",
              "    <tr>\n",
              "      <th>2021-10-04 08:44:00</th>\n",
              "      <td>429.0</td>\n",
              "      <td>9.0</td>\n",
              "      <td>498.0</td>\n",
              "      <td>3080.0</td>\n",
              "      <td>184.0</td>\n",
              "      <td>14.0</td>\n",
              "      <td>999.0</td>\n",
              "      <td>319.0</td>\n",
              "      <td>245.0</td>\n",
              "      <td>372.0</td>\n",
              "      <td>0</td>\n",
              "    </tr>\n",
              "    <tr>\n",
              "      <th>2021-10-04 08:46:00</th>\n",
              "      <td>434.0</td>\n",
              "      <td>9.0</td>\n",
              "      <td>495.0</td>\n",
              "      <td>3085.0</td>\n",
              "      <td>185.0</td>\n",
              "      <td>16.0</td>\n",
              "      <td>999.0</td>\n",
              "      <td>318.0</td>\n",
              "      <td>245.0</td>\n",
              "      <td>375.0</td>\n",
              "      <td>0</td>\n",
              "    </tr>\n",
              "  </tbody>\n",
              "</table>\n",
              "<p>85815 rows × 11 columns</p>\n",
              "</div>"
            ],
            "text/plain": [
              "                        O3  PM2.5    CO2  ...     CO    VOC  Predictions\n",
              "Dates                                     ...                           \n",
              "2021-06-29 12:46:00  465.0    1.0  407.0  ...  217.0  385.0            0\n",
              "2021-06-29 12:48:00  468.0    1.0  407.0  ...  218.0  386.0            0\n",
              "2021-06-29 12:51:00  473.0    1.0  408.0  ...  218.0  389.0            0\n",
              "2021-06-29 12:54:00  473.0    1.0  408.0  ...  217.0  386.0            0\n",
              "2021-06-29 12:55:00  475.0    1.0  408.0  ...  218.0  388.0            0\n",
              "...                    ...    ...    ...  ...    ...    ...          ...\n",
              "2021-10-04 08:40:00  427.0    9.0  497.0  ...  245.0  372.0            0\n",
              "2021-10-04 08:41:00  430.0    9.0  497.0  ...  245.0  371.0            0\n",
              "2021-10-04 08:43:00  428.0    9.0  496.0  ...  245.0  369.0            0\n",
              "2021-10-04 08:44:00  429.0    9.0  498.0  ...  245.0  372.0            0\n",
              "2021-10-04 08:46:00  434.0    9.0  495.0  ...  245.0  375.0            0\n",
              "\n",
              "[85815 rows x 11 columns]"
            ]
          },
          "metadata": {},
          "execution_count": 5
        }
      ]
    },
    {
      "cell_type": "code",
      "metadata": {
        "colab": {
          "base_uri": "https://localhost:8080/"
        },
        "id": "xHrhlS95BZJF",
        "outputId": "0e67066e-a995-4076-bdaf-40820d2e460a"
      },
      "source": [
        "data['Predictions'].value_counts()"
      ],
      "execution_count": 6,
      "outputs": [
        {
          "output_type": "execute_result",
          "data": {
            "text/plain": [
              "0    85246\n",
              "1      569\n",
              "Name: Predictions, dtype: int64"
            ]
          },
          "metadata": {},
          "execution_count": 6
        }
      ]
    },
    {
      "cell_type": "markdown",
      "metadata": {
        "id": "XPpz8y0aVS28"
      },
      "source": [
        "Forecasting the values using the var model"
      ]
    },
    {
      "cell_type": "code",
      "metadata": {
        "colab": {
          "base_uri": "https://localhost:8080/"
        },
        "id": "0fn7OYyJ6w-s",
        "outputId": "e95242a1-96e8-46b9-831f-9fccb362d7e8"
      },
      "source": [
        "forecast = var_fitresults.forecast(var_fitresults.y, steps=len(df)-selected_lag)\n",
        "print(forecast)"
      ],
      "execution_count": 7,
      "outputs": [
        {
          "output_type": "stream",
          "name": "stderr",
          "text": [
            "/usr/local/lib/python3.7/dist-packages/statsmodels/base/wrapper.py:35: FutureWarning: y is a deprecated alias for endog, will be removed in version 0.11.0\n",
            "  obj = getattr(results, attr)\n"
          ]
        },
        {
          "output_type": "stream",
          "name": "stdout",
          "text": [
            "[[436.20795032   9.28424811 494.02462081 ... 317.62681204 244.7795264\n",
            "  373.72964841]\n",
            " [437.34151521   9.48529285 493.32173208 ... 316.5306534  244.5930163\n",
            "  373.46116522]\n",
            " [438.37220903   9.72005456 492.78773746 ... 315.12962376 244.55258744\n",
            "  373.02129841]\n",
            " ...\n",
            " [370.53665683   3.67665411 420.06201389 ... 191.41796827 229.42715369\n",
            "  340.58648407]\n",
            " [370.53665683   3.67665411 420.06201389 ... 191.41796827 229.42715369\n",
            "  340.58648407]\n",
            " [370.53665683   3.67665411 420.06201389 ... 191.41796827 229.42715369\n",
            "  340.58648407]]\n"
          ]
        }
      ]
    },
    {
      "cell_type": "markdown",
      "metadata": {
        "id": "xdapyFhGVa0m"
      },
      "source": [
        "Converting the forecasted values into a dataframe"
      ]
    },
    {
      "cell_type": "code",
      "metadata": {
        "id": "Rud_DaXFOxND"
      },
      "source": [
        "from numpy import sqrt \n",
        "from sklearn.metrics import mean_squared_error\n",
        "\n",
        "#converting predictions to dataframe\n",
        "cols = df.columns\n",
        "pred = pd.DataFrame(index=range(0,len(forecast)),columns=[cols])\n",
        "for j in range(0,10):\n",
        "    for i in range(0, len(forecast)):\n",
        "       pred.iloc[i][j] = forecast[i][j]\n"
      ],
      "execution_count": 8,
      "outputs": []
    },
    {
      "cell_type": "code",
      "metadata": {
        "colab": {
          "base_uri": "https://localhost:8080/",
          "height": 417
        },
        "id": "_4StKjg5djdx",
        "outputId": "176fcc00-27cf-4c1a-e00d-3d0b9c87855b"
      },
      "source": [
        "display(pred)"
      ],
      "execution_count": 9,
      "outputs": [
        {
          "output_type": "display_data",
          "data": {
            "text/html": [
              "<div>\n",
              "<style scoped>\n",
              "    .dataframe tbody tr th:only-of-type {\n",
              "        vertical-align: middle;\n",
              "    }\n",
              "\n",
              "    .dataframe tbody tr th {\n",
              "        vertical-align: top;\n",
              "    }\n",
              "\n",
              "    .dataframe thead tr th {\n",
              "        text-align: left;\n",
              "    }\n",
              "</style>\n",
              "<table border=\"1\" class=\"dataframe\">\n",
              "  <thead>\n",
              "    <tr>\n",
              "      <th></th>\n",
              "      <th>O3</th>\n",
              "      <th>PM2.5</th>\n",
              "      <th>CO2</th>\n",
              "      <th>Temp. int.</th>\n",
              "      <th>T</th>\n",
              "      <th>PM10</th>\n",
              "      <th>RH</th>\n",
              "      <th>NO2</th>\n",
              "      <th>CO</th>\n",
              "      <th>VOC</th>\n",
              "    </tr>\n",
              "  </thead>\n",
              "  <tbody>\n",
              "    <tr>\n",
              "      <th>0</th>\n",
              "      <td>436.208</td>\n",
              "      <td>9.28425</td>\n",
              "      <td>494.025</td>\n",
              "      <td>3086.74</td>\n",
              "      <td>185.458</td>\n",
              "      <td>15.9586</td>\n",
              "      <td>995.772</td>\n",
              "      <td>317.627</td>\n",
              "      <td>244.78</td>\n",
              "      <td>373.73</td>\n",
              "    </tr>\n",
              "    <tr>\n",
              "      <th>1</th>\n",
              "      <td>437.342</td>\n",
              "      <td>9.48529</td>\n",
              "      <td>493.322</td>\n",
              "      <td>3087.68</td>\n",
              "      <td>185.779</td>\n",
              "      <td>15.9097</td>\n",
              "      <td>994.029</td>\n",
              "      <td>316.531</td>\n",
              "      <td>244.593</td>\n",
              "      <td>373.461</td>\n",
              "    </tr>\n",
              "    <tr>\n",
              "      <th>2</th>\n",
              "      <td>438.372</td>\n",
              "      <td>9.72005</td>\n",
              "      <td>492.788</td>\n",
              "      <td>3090.23</td>\n",
              "      <td>186.163</td>\n",
              "      <td>16.6239</td>\n",
              "      <td>992.297</td>\n",
              "      <td>315.13</td>\n",
              "      <td>244.553</td>\n",
              "      <td>373.021</td>\n",
              "    </tr>\n",
              "    <tr>\n",
              "      <th>3</th>\n",
              "      <td>439.309</td>\n",
              "      <td>9.95532</td>\n",
              "      <td>492.211</td>\n",
              "      <td>3093.61</td>\n",
              "      <td>186.566</td>\n",
              "      <td>18.1358</td>\n",
              "      <td>990.461</td>\n",
              "      <td>314.284</td>\n",
              "      <td>244.49</td>\n",
              "      <td>373.425</td>\n",
              "    </tr>\n",
              "    <tr>\n",
              "      <th>4</th>\n",
              "      <td>440.183</td>\n",
              "      <td>10.2049</td>\n",
              "      <td>491.751</td>\n",
              "      <td>3098.36</td>\n",
              "      <td>187.092</td>\n",
              "      <td>19.2819</td>\n",
              "      <td>988.885</td>\n",
              "      <td>314.503</td>\n",
              "      <td>244.411</td>\n",
              "      <td>373.646</td>\n",
              "    </tr>\n",
              "    <tr>\n",
              "      <th>...</th>\n",
              "      <td>...</td>\n",
              "      <td>...</td>\n",
              "      <td>...</td>\n",
              "      <td>...</td>\n",
              "      <td>...</td>\n",
              "      <td>...</td>\n",
              "      <td>...</td>\n",
              "      <td>...</td>\n",
              "      <td>...</td>\n",
              "      <td>...</td>\n",
              "    </tr>\n",
              "    <tr>\n",
              "      <th>85810</th>\n",
              "      <td>370.537</td>\n",
              "      <td>3.67665</td>\n",
              "      <td>420.062</td>\n",
              "      <td>3760.95</td>\n",
              "      <td>250.231</td>\n",
              "      <td>9.272</td>\n",
              "      <td>592.022</td>\n",
              "      <td>191.418</td>\n",
              "      <td>229.427</td>\n",
              "      <td>340.586</td>\n",
              "    </tr>\n",
              "    <tr>\n",
              "      <th>85811</th>\n",
              "      <td>370.537</td>\n",
              "      <td>3.67665</td>\n",
              "      <td>420.062</td>\n",
              "      <td>3760.95</td>\n",
              "      <td>250.231</td>\n",
              "      <td>9.272</td>\n",
              "      <td>592.022</td>\n",
              "      <td>191.418</td>\n",
              "      <td>229.427</td>\n",
              "      <td>340.586</td>\n",
              "    </tr>\n",
              "    <tr>\n",
              "      <th>85812</th>\n",
              "      <td>370.537</td>\n",
              "      <td>3.67665</td>\n",
              "      <td>420.062</td>\n",
              "      <td>3760.95</td>\n",
              "      <td>250.231</td>\n",
              "      <td>9.272</td>\n",
              "      <td>592.022</td>\n",
              "      <td>191.418</td>\n",
              "      <td>229.427</td>\n",
              "      <td>340.586</td>\n",
              "    </tr>\n",
              "    <tr>\n",
              "      <th>85813</th>\n",
              "      <td>370.537</td>\n",
              "      <td>3.67665</td>\n",
              "      <td>420.062</td>\n",
              "      <td>3760.95</td>\n",
              "      <td>250.231</td>\n",
              "      <td>9.272</td>\n",
              "      <td>592.022</td>\n",
              "      <td>191.418</td>\n",
              "      <td>229.427</td>\n",
              "      <td>340.586</td>\n",
              "    </tr>\n",
              "    <tr>\n",
              "      <th>85814</th>\n",
              "      <td>370.537</td>\n",
              "      <td>3.67665</td>\n",
              "      <td>420.062</td>\n",
              "      <td>3760.95</td>\n",
              "      <td>250.231</td>\n",
              "      <td>9.272</td>\n",
              "      <td>592.022</td>\n",
              "      <td>191.418</td>\n",
              "      <td>229.427</td>\n",
              "      <td>340.586</td>\n",
              "    </tr>\n",
              "  </tbody>\n",
              "</table>\n",
              "<p>85815 rows × 10 columns</p>\n",
              "</div>"
            ],
            "text/plain": [
              "            O3    PM2.5      CO2 Temp. int.  ...       RH      NO2       CO      VOC\n",
              "0      436.208  9.28425  494.025    3086.74  ...  995.772  317.627   244.78   373.73\n",
              "1      437.342  9.48529  493.322    3087.68  ...  994.029  316.531  244.593  373.461\n",
              "2      438.372  9.72005  492.788    3090.23  ...  992.297   315.13  244.553  373.021\n",
              "3      439.309  9.95532  492.211    3093.61  ...  990.461  314.284   244.49  373.425\n",
              "4      440.183  10.2049  491.751    3098.36  ...  988.885  314.503  244.411  373.646\n",
              "...        ...      ...      ...        ...  ...      ...      ...      ...      ...\n",
              "85810  370.537  3.67665  420.062    3760.95  ...  592.022  191.418  229.427  340.586\n",
              "85811  370.537  3.67665  420.062    3760.95  ...  592.022  191.418  229.427  340.586\n",
              "85812  370.537  3.67665  420.062    3760.95  ...  592.022  191.418  229.427  340.586\n",
              "85813  370.537  3.67665  420.062    3760.95  ...  592.022  191.418  229.427  340.586\n",
              "85814  370.537  3.67665  420.062    3760.95  ...  592.022  191.418  229.427  340.586\n",
              "\n",
              "[85815 rows x 10 columns]"
            ]
          },
          "metadata": {}
        }
      ]
    },
    {
      "cell_type": "markdown",
      "metadata": {
        "id": "op4ND3y6ViOJ"
      },
      "source": [
        "Creating a data frame with all the informations:\n",
        "on the left side there are the actual values and on the right side there are the predicted values;\n",
        "0 means it is not an anomaly and 1 means it is"
      ]
    },
    {
      "cell_type": "code",
      "metadata": {
        "colab": {
          "base_uri": "https://localhost:8080/",
          "height": 632
        },
        "id": "FqoxmtvkeNf2",
        "outputId": "c56a807c-9488-4736-b27f-ec516d28dbaf"
      },
      "source": [
        "data.reset_index(drop=True, inplace=True)\n",
        "results=pd.concat([data, pred], axis=1)\n",
        "results['Dates'] = df.index[selected_lag:]\n",
        "results=results.set_index('Dates')\n",
        "results"
      ],
      "execution_count": 10,
      "outputs": [
        {
          "output_type": "execute_result",
          "data": {
            "text/html": [
              "<div>\n",
              "<style scoped>\n",
              "    .dataframe tbody tr th:only-of-type {\n",
              "        vertical-align: middle;\n",
              "    }\n",
              "\n",
              "    .dataframe tbody tr th {\n",
              "        vertical-align: top;\n",
              "    }\n",
              "\n",
              "    .dataframe thead th {\n",
              "        text-align: right;\n",
              "    }\n",
              "</style>\n",
              "<table border=\"1\" class=\"dataframe\">\n",
              "  <thead>\n",
              "    <tr style=\"text-align: right;\">\n",
              "      <th></th>\n",
              "      <th>O3</th>\n",
              "      <th>PM2.5</th>\n",
              "      <th>CO2</th>\n",
              "      <th>Temp. int.</th>\n",
              "      <th>T</th>\n",
              "      <th>PM10</th>\n",
              "      <th>RH</th>\n",
              "      <th>NO2</th>\n",
              "      <th>CO</th>\n",
              "      <th>VOC</th>\n",
              "      <th>Predictions</th>\n",
              "      <th>(O3,)</th>\n",
              "      <th>(PM2.5,)</th>\n",
              "      <th>(CO2,)</th>\n",
              "      <th>(Temp. int.,)</th>\n",
              "      <th>(T,)</th>\n",
              "      <th>(PM10,)</th>\n",
              "      <th>(RH,)</th>\n",
              "      <th>(NO2,)</th>\n",
              "      <th>(CO,)</th>\n",
              "      <th>(VOC,)</th>\n",
              "    </tr>\n",
              "    <tr>\n",
              "      <th>Dates</th>\n",
              "      <th></th>\n",
              "      <th></th>\n",
              "      <th></th>\n",
              "      <th></th>\n",
              "      <th></th>\n",
              "      <th></th>\n",
              "      <th></th>\n",
              "      <th></th>\n",
              "      <th></th>\n",
              "      <th></th>\n",
              "      <th></th>\n",
              "      <th></th>\n",
              "      <th></th>\n",
              "      <th></th>\n",
              "      <th></th>\n",
              "      <th></th>\n",
              "      <th></th>\n",
              "      <th></th>\n",
              "      <th></th>\n",
              "      <th></th>\n",
              "      <th></th>\n",
              "    </tr>\n",
              "  </thead>\n",
              "  <tbody>\n",
              "    <tr>\n",
              "      <th>2021-06-29 12:46:00</th>\n",
              "      <td>465.0</td>\n",
              "      <td>1.0</td>\n",
              "      <td>407.0</td>\n",
              "      <td>4507.0</td>\n",
              "      <td>314.0</td>\n",
              "      <td>5.0</td>\n",
              "      <td>369.0</td>\n",
              "      <td>216.0</td>\n",
              "      <td>217.0</td>\n",
              "      <td>385.0</td>\n",
              "      <td>0</td>\n",
              "      <td>436.208</td>\n",
              "      <td>9.28425</td>\n",
              "      <td>494.025</td>\n",
              "      <td>3086.74</td>\n",
              "      <td>185.458</td>\n",
              "      <td>15.9586</td>\n",
              "      <td>995.772</td>\n",
              "      <td>317.627</td>\n",
              "      <td>244.78</td>\n",
              "      <td>373.73</td>\n",
              "    </tr>\n",
              "    <tr>\n",
              "      <th>2021-06-29 12:48:00</th>\n",
              "      <td>468.0</td>\n",
              "      <td>1.0</td>\n",
              "      <td>407.0</td>\n",
              "      <td>4517.0</td>\n",
              "      <td>315.0</td>\n",
              "      <td>9.0</td>\n",
              "      <td>370.0</td>\n",
              "      <td>219.0</td>\n",
              "      <td>218.0</td>\n",
              "      <td>386.0</td>\n",
              "      <td>0</td>\n",
              "      <td>437.342</td>\n",
              "      <td>9.48529</td>\n",
              "      <td>493.322</td>\n",
              "      <td>3087.68</td>\n",
              "      <td>185.779</td>\n",
              "      <td>15.9097</td>\n",
              "      <td>994.029</td>\n",
              "      <td>316.531</td>\n",
              "      <td>244.593</td>\n",
              "      <td>373.461</td>\n",
              "    </tr>\n",
              "    <tr>\n",
              "      <th>2021-06-29 12:51:00</th>\n",
              "      <td>473.0</td>\n",
              "      <td>1.0</td>\n",
              "      <td>408.0</td>\n",
              "      <td>4534.0</td>\n",
              "      <td>317.0</td>\n",
              "      <td>5.0</td>\n",
              "      <td>362.0</td>\n",
              "      <td>228.0</td>\n",
              "      <td>218.0</td>\n",
              "      <td>389.0</td>\n",
              "      <td>0</td>\n",
              "      <td>438.372</td>\n",
              "      <td>9.72005</td>\n",
              "      <td>492.788</td>\n",
              "      <td>3090.23</td>\n",
              "      <td>186.163</td>\n",
              "      <td>16.6239</td>\n",
              "      <td>992.297</td>\n",
              "      <td>315.13</td>\n",
              "      <td>244.553</td>\n",
              "      <td>373.021</td>\n",
              "    </tr>\n",
              "    <tr>\n",
              "      <th>2021-06-29 12:54:00</th>\n",
              "      <td>473.0</td>\n",
              "      <td>1.0</td>\n",
              "      <td>408.0</td>\n",
              "      <td>4539.0</td>\n",
              "      <td>316.0</td>\n",
              "      <td>5.0</td>\n",
              "      <td>370.0</td>\n",
              "      <td>214.0</td>\n",
              "      <td>217.0</td>\n",
              "      <td>386.0</td>\n",
              "      <td>0</td>\n",
              "      <td>439.309</td>\n",
              "      <td>9.95532</td>\n",
              "      <td>492.211</td>\n",
              "      <td>3093.61</td>\n",
              "      <td>186.566</td>\n",
              "      <td>18.1358</td>\n",
              "      <td>990.461</td>\n",
              "      <td>314.284</td>\n",
              "      <td>244.49</td>\n",
              "      <td>373.425</td>\n",
              "    </tr>\n",
              "    <tr>\n",
              "      <th>2021-06-29 12:55:00</th>\n",
              "      <td>475.0</td>\n",
              "      <td>1.0</td>\n",
              "      <td>408.0</td>\n",
              "      <td>4546.0</td>\n",
              "      <td>315.0</td>\n",
              "      <td>6.0</td>\n",
              "      <td>370.0</td>\n",
              "      <td>225.0</td>\n",
              "      <td>218.0</td>\n",
              "      <td>388.0</td>\n",
              "      <td>0</td>\n",
              "      <td>440.183</td>\n",
              "      <td>10.2049</td>\n",
              "      <td>491.751</td>\n",
              "      <td>3098.36</td>\n",
              "      <td>187.092</td>\n",
              "      <td>19.2819</td>\n",
              "      <td>988.885</td>\n",
              "      <td>314.503</td>\n",
              "      <td>244.411</td>\n",
              "      <td>373.646</td>\n",
              "    </tr>\n",
              "    <tr>\n",
              "      <th>...</th>\n",
              "      <td>...</td>\n",
              "      <td>...</td>\n",
              "      <td>...</td>\n",
              "      <td>...</td>\n",
              "      <td>...</td>\n",
              "      <td>...</td>\n",
              "      <td>...</td>\n",
              "      <td>...</td>\n",
              "      <td>...</td>\n",
              "      <td>...</td>\n",
              "      <td>...</td>\n",
              "      <td>...</td>\n",
              "      <td>...</td>\n",
              "      <td>...</td>\n",
              "      <td>...</td>\n",
              "      <td>...</td>\n",
              "      <td>...</td>\n",
              "      <td>...</td>\n",
              "      <td>...</td>\n",
              "      <td>...</td>\n",
              "      <td>...</td>\n",
              "    </tr>\n",
              "    <tr>\n",
              "      <th>2021-10-04 08:40:00</th>\n",
              "      <td>427.0</td>\n",
              "      <td>9.0</td>\n",
              "      <td>497.0</td>\n",
              "      <td>3054.0</td>\n",
              "      <td>182.0</td>\n",
              "      <td>16.0</td>\n",
              "      <td>999.0</td>\n",
              "      <td>319.0</td>\n",
              "      <td>245.0</td>\n",
              "      <td>372.0</td>\n",
              "      <td>0</td>\n",
              "      <td>370.537</td>\n",
              "      <td>3.67665</td>\n",
              "      <td>420.062</td>\n",
              "      <td>3760.95</td>\n",
              "      <td>250.231</td>\n",
              "      <td>9.272</td>\n",
              "      <td>592.022</td>\n",
              "      <td>191.418</td>\n",
              "      <td>229.427</td>\n",
              "      <td>340.586</td>\n",
              "    </tr>\n",
              "    <tr>\n",
              "      <th>2021-10-04 08:41:00</th>\n",
              "      <td>430.0</td>\n",
              "      <td>9.0</td>\n",
              "      <td>497.0</td>\n",
              "      <td>3066.0</td>\n",
              "      <td>183.0</td>\n",
              "      <td>15.0</td>\n",
              "      <td>999.0</td>\n",
              "      <td>318.0</td>\n",
              "      <td>245.0</td>\n",
              "      <td>371.0</td>\n",
              "      <td>0</td>\n",
              "      <td>370.537</td>\n",
              "      <td>3.67665</td>\n",
              "      <td>420.062</td>\n",
              "      <td>3760.95</td>\n",
              "      <td>250.231</td>\n",
              "      <td>9.272</td>\n",
              "      <td>592.022</td>\n",
              "      <td>191.418</td>\n",
              "      <td>229.427</td>\n",
              "      <td>340.586</td>\n",
              "    </tr>\n",
              "    <tr>\n",
              "      <th>2021-10-04 08:43:00</th>\n",
              "      <td>428.0</td>\n",
              "      <td>9.0</td>\n",
              "      <td>496.0</td>\n",
              "      <td>3074.0</td>\n",
              "      <td>184.0</td>\n",
              "      <td>14.0</td>\n",
              "      <td>999.0</td>\n",
              "      <td>316.0</td>\n",
              "      <td>245.0</td>\n",
              "      <td>369.0</td>\n",
              "      <td>0</td>\n",
              "      <td>370.537</td>\n",
              "      <td>3.67665</td>\n",
              "      <td>420.062</td>\n",
              "      <td>3760.95</td>\n",
              "      <td>250.231</td>\n",
              "      <td>9.272</td>\n",
              "      <td>592.022</td>\n",
              "      <td>191.418</td>\n",
              "      <td>229.427</td>\n",
              "      <td>340.586</td>\n",
              "    </tr>\n",
              "    <tr>\n",
              "      <th>2021-10-04 08:44:00</th>\n",
              "      <td>429.0</td>\n",
              "      <td>9.0</td>\n",
              "      <td>498.0</td>\n",
              "      <td>3080.0</td>\n",
              "      <td>184.0</td>\n",
              "      <td>14.0</td>\n",
              "      <td>999.0</td>\n",
              "      <td>319.0</td>\n",
              "      <td>245.0</td>\n",
              "      <td>372.0</td>\n",
              "      <td>0</td>\n",
              "      <td>370.537</td>\n",
              "      <td>3.67665</td>\n",
              "      <td>420.062</td>\n",
              "      <td>3760.95</td>\n",
              "      <td>250.231</td>\n",
              "      <td>9.272</td>\n",
              "      <td>592.022</td>\n",
              "      <td>191.418</td>\n",
              "      <td>229.427</td>\n",
              "      <td>340.586</td>\n",
              "    </tr>\n",
              "    <tr>\n",
              "      <th>2021-10-04 08:46:00</th>\n",
              "      <td>434.0</td>\n",
              "      <td>9.0</td>\n",
              "      <td>495.0</td>\n",
              "      <td>3085.0</td>\n",
              "      <td>185.0</td>\n",
              "      <td>16.0</td>\n",
              "      <td>999.0</td>\n",
              "      <td>318.0</td>\n",
              "      <td>245.0</td>\n",
              "      <td>375.0</td>\n",
              "      <td>0</td>\n",
              "      <td>370.537</td>\n",
              "      <td>3.67665</td>\n",
              "      <td>420.062</td>\n",
              "      <td>3760.95</td>\n",
              "      <td>250.231</td>\n",
              "      <td>9.272</td>\n",
              "      <td>592.022</td>\n",
              "      <td>191.418</td>\n",
              "      <td>229.427</td>\n",
              "      <td>340.586</td>\n",
              "    </tr>\n",
              "  </tbody>\n",
              "</table>\n",
              "<p>85815 rows × 21 columns</p>\n",
              "</div>"
            ],
            "text/plain": [
              "                        O3  PM2.5    CO2  ...   (NO2,)    (CO,)   (VOC,)\n",
              "Dates                                     ...                           \n",
              "2021-06-29 12:46:00  465.0    1.0  407.0  ...  317.627   244.78   373.73\n",
              "2021-06-29 12:48:00  468.0    1.0  407.0  ...  316.531  244.593  373.461\n",
              "2021-06-29 12:51:00  473.0    1.0  408.0  ...   315.13  244.553  373.021\n",
              "2021-06-29 12:54:00  473.0    1.0  408.0  ...  314.284   244.49  373.425\n",
              "2021-06-29 12:55:00  475.0    1.0  408.0  ...  314.503  244.411  373.646\n",
              "...                    ...    ...    ...  ...      ...      ...      ...\n",
              "2021-10-04 08:40:00  427.0    9.0  497.0  ...  191.418  229.427  340.586\n",
              "2021-10-04 08:41:00  430.0    9.0  497.0  ...  191.418  229.427  340.586\n",
              "2021-10-04 08:43:00  428.0    9.0  496.0  ...  191.418  229.427  340.586\n",
              "2021-10-04 08:44:00  429.0    9.0  498.0  ...  191.418  229.427  340.586\n",
              "2021-10-04 08:46:00  434.0    9.0  495.0  ...  191.418  229.427  340.586\n",
              "\n",
              "[85815 rows x 21 columns]"
            ]
          },
          "metadata": {},
          "execution_count": 10
        }
      ]
    },
    {
      "cell_type": "markdown",
      "metadata": {
        "id": "IIj9VHMokEC_"
      },
      "source": [
        "This are the detected anomalies"
      ]
    },
    {
      "cell_type": "code",
      "metadata": {
        "colab": {
          "base_uri": "https://localhost:8080/",
          "height": 632
        },
        "id": "es3eCZxskGTU",
        "outputId": "5d85a873-b024-4052-c11e-909f37a9bb47"
      },
      "source": [
        "anomalies = results[(results['Predictions'] == 1)]\n",
        "anomalies"
      ],
      "execution_count": 11,
      "outputs": [
        {
          "output_type": "execute_result",
          "data": {
            "text/html": [
              "<div>\n",
              "<style scoped>\n",
              "    .dataframe tbody tr th:only-of-type {\n",
              "        vertical-align: middle;\n",
              "    }\n",
              "\n",
              "    .dataframe tbody tr th {\n",
              "        vertical-align: top;\n",
              "    }\n",
              "\n",
              "    .dataframe thead th {\n",
              "        text-align: right;\n",
              "    }\n",
              "</style>\n",
              "<table border=\"1\" class=\"dataframe\">\n",
              "  <thead>\n",
              "    <tr style=\"text-align: right;\">\n",
              "      <th></th>\n",
              "      <th>O3</th>\n",
              "      <th>PM2.5</th>\n",
              "      <th>CO2</th>\n",
              "      <th>Temp. int.</th>\n",
              "      <th>T</th>\n",
              "      <th>PM10</th>\n",
              "      <th>RH</th>\n",
              "      <th>NO2</th>\n",
              "      <th>CO</th>\n",
              "      <th>VOC</th>\n",
              "      <th>Predictions</th>\n",
              "      <th>(O3,)</th>\n",
              "      <th>(PM2.5,)</th>\n",
              "      <th>(CO2,)</th>\n",
              "      <th>(Temp. int.,)</th>\n",
              "      <th>(T,)</th>\n",
              "      <th>(PM10,)</th>\n",
              "      <th>(RH,)</th>\n",
              "      <th>(NO2,)</th>\n",
              "      <th>(CO,)</th>\n",
              "      <th>(VOC,)</th>\n",
              "    </tr>\n",
              "    <tr>\n",
              "      <th>Dates</th>\n",
              "      <th></th>\n",
              "      <th></th>\n",
              "      <th></th>\n",
              "      <th></th>\n",
              "      <th></th>\n",
              "      <th></th>\n",
              "      <th></th>\n",
              "      <th></th>\n",
              "      <th></th>\n",
              "      <th></th>\n",
              "      <th></th>\n",
              "      <th></th>\n",
              "      <th></th>\n",
              "      <th></th>\n",
              "      <th></th>\n",
              "      <th></th>\n",
              "      <th></th>\n",
              "      <th></th>\n",
              "      <th></th>\n",
              "      <th></th>\n",
              "      <th></th>\n",
              "    </tr>\n",
              "  </thead>\n",
              "  <tbody>\n",
              "    <tr>\n",
              "      <th>2021-06-29 22:41:00</th>\n",
              "      <td>433.0</td>\n",
              "      <td>2.0</td>\n",
              "      <td>388.0</td>\n",
              "      <td>3478.0</td>\n",
              "      <td>257.0</td>\n",
              "      <td>4.0</td>\n",
              "      <td>573.0</td>\n",
              "      <td>401.0</td>\n",
              "      <td>237.0</td>\n",
              "      <td>336.0</td>\n",
              "      <td>1</td>\n",
              "      <td>417.667</td>\n",
              "      <td>7.39987</td>\n",
              "      <td>441.454</td>\n",
              "      <td>3731.77</td>\n",
              "      <td>253.984</td>\n",
              "      <td>15.3355</td>\n",
              "      <td>677.533</td>\n",
              "      <td>183.433</td>\n",
              "      <td>235.578</td>\n",
              "      <td>361.172</td>\n",
              "    </tr>\n",
              "    <tr>\n",
              "      <th>2021-06-30 16:18:00</th>\n",
              "      <td>360.0</td>\n",
              "      <td>67.0</td>\n",
              "      <td>407.0</td>\n",
              "      <td>4249.0</td>\n",
              "      <td>283.0</td>\n",
              "      <td>77.0</td>\n",
              "      <td>307.0</td>\n",
              "      <td>274.0</td>\n",
              "      <td>202.0</td>\n",
              "      <td>407.0</td>\n",
              "      <td>1</td>\n",
              "      <td>365.288</td>\n",
              "      <td>5.08652</td>\n",
              "      <td>426.925</td>\n",
              "      <td>3667.99</td>\n",
              "      <td>245.841</td>\n",
              "      <td>11.1045</td>\n",
              "      <td>633.479</td>\n",
              "      <td>164.381</td>\n",
              "      <td>232.662</td>\n",
              "      <td>339.441</td>\n",
              "    </tr>\n",
              "    <tr>\n",
              "      <th>2021-06-30 16:19:00</th>\n",
              "      <td>368.0</td>\n",
              "      <td>19.0</td>\n",
              "      <td>407.0</td>\n",
              "      <td>4254.0</td>\n",
              "      <td>284.0</td>\n",
              "      <td>26.0</td>\n",
              "      <td>304.0</td>\n",
              "      <td>229.0</td>\n",
              "      <td>197.0</td>\n",
              "      <td>376.0</td>\n",
              "      <td>1</td>\n",
              "      <td>365.266</td>\n",
              "      <td>5.08501</td>\n",
              "      <td>426.919</td>\n",
              "      <td>3667.95</td>\n",
              "      <td>245.832</td>\n",
              "      <td>11.1025</td>\n",
              "      <td>633.457</td>\n",
              "      <td>164.401</td>\n",
              "      <td>232.656</td>\n",
              "      <td>339.431</td>\n",
              "    </tr>\n",
              "    <tr>\n",
              "      <th>2021-06-30 22:41:00</th>\n",
              "      <td>353.0</td>\n",
              "      <td>3.0</td>\n",
              "      <td>395.0</td>\n",
              "      <td>3224.0</td>\n",
              "      <td>232.0</td>\n",
              "      <td>13.0</td>\n",
              "      <td>581.0</td>\n",
              "      <td>329.0</td>\n",
              "      <td>226.0</td>\n",
              "      <td>311.0</td>\n",
              "      <td>1</td>\n",
              "      <td>362.544</td>\n",
              "      <td>4.80074</td>\n",
              "      <td>425.787</td>\n",
              "      <td>3667.23</td>\n",
              "      <td>244.827</td>\n",
              "      <td>10.7306</td>\n",
              "      <td>627.629</td>\n",
              "      <td>168.817</td>\n",
              "      <td>231.534</td>\n",
              "      <td>338.125</td>\n",
              "    </tr>\n",
              "    <tr>\n",
              "      <th>2021-07-01 15:32:00</th>\n",
              "      <td>763.0</td>\n",
              "      <td>1.0</td>\n",
              "      <td>407.0</td>\n",
              "      <td>3634.0</td>\n",
              "      <td>312.0</td>\n",
              "      <td>5.0</td>\n",
              "      <td>333.0</td>\n",
              "      <td>777.0</td>\n",
              "      <td>205.0</td>\n",
              "      <td>326.0</td>\n",
              "      <td>1</td>\n",
              "      <td>362.229</td>\n",
              "      <td>4.42996</td>\n",
              "      <td>424.126</td>\n",
              "      <td>3685.53</td>\n",
              "      <td>245.387</td>\n",
              "      <td>10.2562</td>\n",
              "      <td>615.774</td>\n",
              "      <td>175.159</td>\n",
              "      <td>230.181</td>\n",
              "      <td>337.883</td>\n",
              "    </tr>\n",
              "    <tr>\n",
              "      <th>...</th>\n",
              "      <td>...</td>\n",
              "      <td>...</td>\n",
              "      <td>...</td>\n",
              "      <td>...</td>\n",
              "      <td>...</td>\n",
              "      <td>...</td>\n",
              "      <td>...</td>\n",
              "      <td>...</td>\n",
              "      <td>...</td>\n",
              "      <td>...</td>\n",
              "      <td>...</td>\n",
              "      <td>...</td>\n",
              "      <td>...</td>\n",
              "      <td>...</td>\n",
              "      <td>...</td>\n",
              "      <td>...</td>\n",
              "      <td>...</td>\n",
              "      <td>...</td>\n",
              "      <td>...</td>\n",
              "      <td>...</td>\n",
              "      <td>...</td>\n",
              "    </tr>\n",
              "    <tr>\n",
              "      <th>2021-10-02 21:45:00</th>\n",
              "      <td>510.0</td>\n",
              "      <td>19.0</td>\n",
              "      <td>455.0</td>\n",
              "      <td>3024.0</td>\n",
              "      <td>180.0</td>\n",
              "      <td>26.0</td>\n",
              "      <td>915.0</td>\n",
              "      <td>306.0</td>\n",
              "      <td>250.0</td>\n",
              "      <td>424.0</td>\n",
              "      <td>1</td>\n",
              "      <td>370.537</td>\n",
              "      <td>3.67665</td>\n",
              "      <td>420.062</td>\n",
              "      <td>3760.95</td>\n",
              "      <td>250.231</td>\n",
              "      <td>9.272</td>\n",
              "      <td>592.022</td>\n",
              "      <td>191.418</td>\n",
              "      <td>229.427</td>\n",
              "      <td>340.586</td>\n",
              "    </tr>\n",
              "    <tr>\n",
              "      <th>2021-10-03 03:39:00</th>\n",
              "      <td>398.0</td>\n",
              "      <td>17.0</td>\n",
              "      <td>465.0</td>\n",
              "      <td>2205.0</td>\n",
              "      <td>149.0</td>\n",
              "      <td>23.0</td>\n",
              "      <td>999.0</td>\n",
              "      <td>352.0</td>\n",
              "      <td>217.0</td>\n",
              "      <td>319.0</td>\n",
              "      <td>1</td>\n",
              "      <td>370.537</td>\n",
              "      <td>3.67665</td>\n",
              "      <td>420.062</td>\n",
              "      <td>3760.95</td>\n",
              "      <td>250.231</td>\n",
              "      <td>9.272</td>\n",
              "      <td>592.022</td>\n",
              "      <td>191.418</td>\n",
              "      <td>229.427</td>\n",
              "      <td>340.586</td>\n",
              "    </tr>\n",
              "    <tr>\n",
              "      <th>2021-10-03 03:42:00</th>\n",
              "      <td>401.0</td>\n",
              "      <td>17.0</td>\n",
              "      <td>482.0</td>\n",
              "      <td>2437.0</td>\n",
              "      <td>149.0</td>\n",
              "      <td>21.0</td>\n",
              "      <td>999.0</td>\n",
              "      <td>311.0</td>\n",
              "      <td>217.0</td>\n",
              "      <td>326.0</td>\n",
              "      <td>1</td>\n",
              "      <td>370.537</td>\n",
              "      <td>3.67665</td>\n",
              "      <td>420.062</td>\n",
              "      <td>3760.95</td>\n",
              "      <td>250.231</td>\n",
              "      <td>9.272</td>\n",
              "      <td>592.022</td>\n",
              "      <td>191.418</td>\n",
              "      <td>229.427</td>\n",
              "      <td>340.586</td>\n",
              "    </tr>\n",
              "    <tr>\n",
              "      <th>2021-10-03 04:28:00</th>\n",
              "      <td>380.0</td>\n",
              "      <td>12.0</td>\n",
              "      <td>460.0</td>\n",
              "      <td>2706.0</td>\n",
              "      <td>152.0</td>\n",
              "      <td>15.0</td>\n",
              "      <td>980.0</td>\n",
              "      <td>177.0</td>\n",
              "      <td>215.0</td>\n",
              "      <td>310.0</td>\n",
              "      <td>1</td>\n",
              "      <td>370.537</td>\n",
              "      <td>3.67665</td>\n",
              "      <td>420.062</td>\n",
              "      <td>3760.95</td>\n",
              "      <td>250.231</td>\n",
              "      <td>9.272</td>\n",
              "      <td>592.022</td>\n",
              "      <td>191.418</td>\n",
              "      <td>229.427</td>\n",
              "      <td>340.586</td>\n",
              "    </tr>\n",
              "    <tr>\n",
              "      <th>2021-10-04 03:39:00</th>\n",
              "      <td>406.0</td>\n",
              "      <td>6.0</td>\n",
              "      <td>438.0</td>\n",
              "      <td>2637.0</td>\n",
              "      <td>187.0</td>\n",
              "      <td>10.0</td>\n",
              "      <td>999.0</td>\n",
              "      <td>366.0</td>\n",
              "      <td>225.0</td>\n",
              "      <td>314.0</td>\n",
              "      <td>1</td>\n",
              "      <td>370.537</td>\n",
              "      <td>3.67665</td>\n",
              "      <td>420.062</td>\n",
              "      <td>3760.95</td>\n",
              "      <td>250.231</td>\n",
              "      <td>9.272</td>\n",
              "      <td>592.022</td>\n",
              "      <td>191.418</td>\n",
              "      <td>229.427</td>\n",
              "      <td>340.586</td>\n",
              "    </tr>\n",
              "  </tbody>\n",
              "</table>\n",
              "<p>569 rows × 21 columns</p>\n",
              "</div>"
            ],
            "text/plain": [
              "                        O3  PM2.5    CO2  ...   (NO2,)    (CO,)   (VOC,)\n",
              "Dates                                     ...                           \n",
              "2021-06-29 22:41:00  433.0    2.0  388.0  ...  183.433  235.578  361.172\n",
              "2021-06-30 16:18:00  360.0   67.0  407.0  ...  164.381  232.662  339.441\n",
              "2021-06-30 16:19:00  368.0   19.0  407.0  ...  164.401  232.656  339.431\n",
              "2021-06-30 22:41:00  353.0    3.0  395.0  ...  168.817  231.534  338.125\n",
              "2021-07-01 15:32:00  763.0    1.0  407.0  ...  175.159  230.181  337.883\n",
              "...                    ...    ...    ...  ...      ...      ...      ...\n",
              "2021-10-02 21:45:00  510.0   19.0  455.0  ...  191.418  229.427  340.586\n",
              "2021-10-03 03:39:00  398.0   17.0  465.0  ...  191.418  229.427  340.586\n",
              "2021-10-03 03:42:00  401.0   17.0  482.0  ...  191.418  229.427  340.586\n",
              "2021-10-03 04:28:00  380.0   12.0  460.0  ...  191.418  229.427  340.586\n",
              "2021-10-04 03:39:00  406.0    6.0  438.0  ...  191.418  229.427  340.586\n",
              "\n",
              "[569 rows x 21 columns]"
            ]
          },
          "metadata": {},
          "execution_count": 11
        }
      ]
    },
    {
      "cell_type": "markdown",
      "metadata": {
        "id": "nnj6dp7JWFQx"
      },
      "source": [
        "Comparing the actual values and the predicted values"
      ]
    },
    {
      "cell_type": "code",
      "metadata": {
        "colab": {
          "base_uri": "https://localhost:8080/",
          "height": 654
        },
        "id": "k8KfRYc-ULqX",
        "outputId": "8c8047f2-d0f3-428e-9e96-db73f9a62c94"
      },
      "source": [
        "pred.plot(figsize=(12,5),legend=True)\n",
        "df.plot(figsize=(12,5),legend=True)"
      ],
      "execution_count": 12,
      "outputs": [
        {
          "output_type": "execute_result",
          "data": {
            "text/plain": [
              "<matplotlib.axes._subplots.AxesSubplot at 0x7f947c94f690>"
            ]
          },
          "metadata": {},
          "execution_count": 12
        },
        {
          "output_type": "display_data",
          "data": {
            "image/png": "[encoded data removed]",
            "text/plain": [
              "<Figure size 864x360 with 1 Axes>"
            ]
          },
          "metadata": {
            "needs_background": "light"
          }
        },
        {
          "output_type": "display_data",
          "data": {
            "image/png": "[encoded data removed]",
            "text/plain": [
              "<Figure size 864x360 with 1 Axes>"
            ]
          },
          "metadata": {
            "needs_background": "light"
          }
        }
      ]
    }
  ]
}