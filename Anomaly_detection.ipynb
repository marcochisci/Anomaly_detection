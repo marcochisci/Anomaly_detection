{
  "nbformat": 4,
  "nbformat_minor": 0,
  "metadata": {
    "colab": {
      "name": "Anomaly_detection.ipynb",
      "provenance": [],
      "collapsed_sections": [],
      "authorship_tag": "ABX9TyPx1E8g3BakiqCTdCdexoEG",
      "include_colab_link": true
    },
    "kernelspec": {
      "name": "python3",
      "display_name": "Python 3"
    },
    "language_info": {
      "name": "python"
    }
  },
  "cells": [
    {
      "cell_type": "markdown",
      "metadata": {
        "id": "view-in-github",
        "colab_type": "text"
      },
      "source": [
        "<a href=\"https://colab.research.google.com/github/marcochisci/Anomaly_detection/blob/main/Anomaly_detection.ipynb\" target=\"_parent\"><img src=\"https://colab.research.google.com/assets/colab-badge.svg\" alt=\"Open In Colab\"/></a>"
      ]
    },
    {
      "cell_type": "markdown",
      "metadata": {
        "id": "njhT4x0rzE97"
      },
      "source": [
        "# Install Apache Spark 3.0.0"
      ]
    },
    {
      "cell_type": "code",
      "metadata": {
        "id": "RZM6XcSMy4IM"
      },
      "source": [
        "# install Java8\n",
        "!apt-get install openjdk-8-jdk-headless -qq > /dev/null\n",
        "# download spark3.0.0\n",
        "!wget -q https://archive.apache.org/dist/spark/spark-3.0.0/spark-3.0.0-bin-hadoop3.2.tgz\n",
        "# unzip it\n",
        "!tar xf spark-3.0.0-bin-hadoop3.2.tgz\n",
        "# install findspark \n",
        "!pip install -q findspark"
      ],
      "execution_count": 1,
      "outputs": []
    },
    {
      "cell_type": "markdown",
      "metadata": {
        "id": "-sZSTxiKzbB-"
      },
      "source": [
        "# Set Environment Variables"
      ]
    },
    {
      "cell_type": "code",
      "metadata": {
        "id": "DowTY2Lmzi9v"
      },
      "source": [
        "import os\n",
        "os.environ[\"JAVA_HOME\"] = \"/usr/lib/jvm/java-8-openjdk-amd64\"\n",
        "os.environ[\"SPARK_HOME\"] = \"/content/spark-3.0.0-bin-hadoop3.2\""
      ],
      "execution_count": 2,
      "outputs": []
    },
    {
      "cell_type": "markdown",
      "metadata": {
        "id": "JqqvJo3i8PGC"
      },
      "source": [
        "#Create local spark session\n"
      ]
    },
    {
      "cell_type": "code",
      "metadata": {
        "id": "iTk4DGI98RLW"
      },
      "source": [
        "import findspark\n",
        "findspark.init()\n",
        "from pyspark.context import SparkContext\n",
        "from pyspark.sql.session import SparkSession\n",
        "sc = SparkContext('local')\n",
        "spark = SparkSession(sc)"
      ],
      "execution_count": 3,
      "outputs": []
    },
    {
      "cell_type": "markdown",
      "metadata": {
        "id": "v7y-c6hXzql5"
      },
      "source": [
        "Installation Test and pyspark version"
      ]
    },
    {
      "cell_type": "code",
      "metadata": {
        "colab": {
          "base_uri": "https://localhost:8080/"
        },
        "id": "tyr7niAHzuAF",
        "outputId": "75d5cb31-7fd3-487e-f192-328835935104"
      },
      "source": [
        "#create a test schema\n",
        "from pyspark.sql.types import *\n",
        "from pyspark.sql import Row\n",
        "\n",
        "schema = StructType([StructField('name', StringType()), StructField('age',IntegerType())])\n",
        "rows = [Row(name='Severin', age=33), Row(name='John', age=48)]\n",
        "df = spark.createDataFrame(rows, schema)\n",
        "\n",
        "df.printSchema()\n",
        "df.show()\n",
        "\n",
        "\n",
        "# Check the pyspark version\n",
        "import pyspark\n",
        "print(pyspark.__version__)\n"
      ],
      "execution_count": 4,
      "outputs": [
        {
          "output_type": "stream",
          "name": "stdout",
          "text": [
            "root\n",
            " |-- name: string (nullable = true)\n",
            " |-- age: integer (nullable = true)\n",
            "\n",
            "+-------+---+\n",
            "|   name|age|\n",
            "+-------+---+\n",
            "|Severin| 33|\n",
            "|   John| 48|\n",
            "+-------+---+\n",
            "\n",
            "3.0.0\n"
          ]
        }
      ]
    },
    {
      "cell_type": "markdown",
      "metadata": {
        "id": "Slvyz6Ils5MI"
      },
      "source": [
        "# Airquino Table Data"
      ]
    },
    {
      "cell_type": "code",
      "metadata": {
        "colab": {
          "base_uri": "https://localhost:8080/",
          "height": 442
        },
        "id": "ig7ZKLKlirHv",
        "outputId": "203dc0c5-594b-4b50-e144-dbfb34cec39b"
      },
      "source": [
        "import pandas as pd\n",
        "import psycopg2\n",
        "import datetime\n",
        "import matplotlib.pyplot as plt\n",
        "import matplotlib.ticker as ticker\n",
        "import matplotlib.dates as mdates\n",
        "\n",
        "\n",
        "conn = psycopg2.connect(host='playground.magentalab.it', port='55432', database='airqino', user='datareader', password='homntLZnlhQd9prtVA9SFezQek')\n",
        "\n",
        "query = \"\"\"select * from crosstab(\n",
        "  'select sd.data_acquired as timestamp, s.sensor_type ,  sd.float_value as value \n",
        "from station_data sd join sensor s on s.id = sd.sensor_id\n",
        "where sd.data_acquired >= to_timestamp(''2021-06-01 00:00:00'', ''YYYY-mm-dd HH24:MI:SS'')\n",
        "and sd.station_id = 23284701 order by sd.data_acquired asc, 1'\n",
        " , $$VALUES ('O3'::varchar), ('PM2.5'::varchar), ('CO2'::varchar), ('AUX1'::varchar), ('Temp. int.'::varchar), ('T'::varchar)\n",
        " , ('PM10'::varchar), ('RH'::varchar), ('NO2'::varchar), ('CO'::varchar), ('AUX2'::varchar), ('VOC'::varchar)$$\n",
        ") AS value (\"Dates\" timestamp, \"O3\" float, \"PM2.5\" float, \"CO2\" float, \"AUX1\" float, \"Temp. int.\" float, \"T\" float, \"PM10\" float,\n",
        "\"RH\" float, \"NO2\" float, \"CO\" float, \"AUX2\" float, \"VOC\" float);\"\"\".format(29510692, 23284701)  #23284701 is a specific station\n",
        "\n",
        "df = pd.read_sql(query, conn)\n",
        "df= df.set_index('Dates')\n",
        "\n",
        "#removing nans\n",
        "df = df.dropna()\n",
        "\n",
        "display(df.head(10))"
      ],
      "execution_count": 5,
      "outputs": [
        {
          "output_type": "stream",
          "name": "stderr",
          "text": [
            "/usr/local/lib/python3.7/dist-packages/psycopg2/__init__.py:144: UserWarning: The psycopg2 wheel package will be renamed from release 2.8; in order to keep installing from binary please use \"pip install psycopg2-binary\" instead. For details see: <http://initd.org/psycopg/docs/install.html#binary-install-from-pypi>.\n",
            "  \"\"\")\n"
          ]
        },
        {
          "output_type": "display_data",
          "data": {
            "text/html": [
              "<div>\n",
              "<style scoped>\n",
              "    .dataframe tbody tr th:only-of-type {\n",
              "        vertical-align: middle;\n",
              "    }\n",
              "\n",
              "    .dataframe tbody tr th {\n",
              "        vertical-align: top;\n",
              "    }\n",
              "\n",
              "    .dataframe thead th {\n",
              "        text-align: right;\n",
              "    }\n",
              "</style>\n",
              "<table border=\"1\" class=\"dataframe\">\n",
              "  <thead>\n",
              "    <tr style=\"text-align: right;\">\n",
              "      <th></th>\n",
              "      <th>O3</th>\n",
              "      <th>PM2.5</th>\n",
              "      <th>CO2</th>\n",
              "      <th>AUX1</th>\n",
              "      <th>Temp. int.</th>\n",
              "      <th>T</th>\n",
              "      <th>PM10</th>\n",
              "      <th>RH</th>\n",
              "      <th>NO2</th>\n",
              "      <th>CO</th>\n",
              "      <th>AUX2</th>\n",
              "      <th>VOC</th>\n",
              "    </tr>\n",
              "    <tr>\n",
              "      <th>Dates</th>\n",
              "      <th></th>\n",
              "      <th></th>\n",
              "      <th></th>\n",
              "      <th></th>\n",
              "      <th></th>\n",
              "      <th></th>\n",
              "      <th></th>\n",
              "      <th></th>\n",
              "      <th></th>\n",
              "      <th></th>\n",
              "      <th></th>\n",
              "      <th></th>\n",
              "    </tr>\n",
              "  </thead>\n",
              "  <tbody>\n",
              "    <tr>\n",
              "      <th>2021-06-29 10:40:00</th>\n",
              "      <td>466.0</td>\n",
              "      <td>2.0</td>\n",
              "      <td>414.0</td>\n",
              "      <td>1111.0</td>\n",
              "      <td>3896.0</td>\n",
              "      <td>276.0</td>\n",
              "      <td>9.0</td>\n",
              "      <td>512.0</td>\n",
              "      <td>301.0</td>\n",
              "      <td>226.0</td>\n",
              "      <td>91.0</td>\n",
              "      <td>358.0</td>\n",
              "    </tr>\n",
              "    <tr>\n",
              "      <th>2021-06-29 10:42:00</th>\n",
              "      <td>470.0</td>\n",
              "      <td>2.0</td>\n",
              "      <td>413.0</td>\n",
              "      <td>1111.0</td>\n",
              "      <td>3983.0</td>\n",
              "      <td>279.0</td>\n",
              "      <td>11.0</td>\n",
              "      <td>513.0</td>\n",
              "      <td>335.0</td>\n",
              "      <td>227.0</td>\n",
              "      <td>91.0</td>\n",
              "      <td>366.0</td>\n",
              "    </tr>\n",
              "    <tr>\n",
              "      <th>2021-06-29 10:46:00</th>\n",
              "      <td>480.0</td>\n",
              "      <td>2.0</td>\n",
              "      <td>414.0</td>\n",
              "      <td>1111.0</td>\n",
              "      <td>4147.0</td>\n",
              "      <td>286.0</td>\n",
              "      <td>10.0</td>\n",
              "      <td>487.0</td>\n",
              "      <td>291.0</td>\n",
              "      <td>226.0</td>\n",
              "      <td>93.0</td>\n",
              "      <td>365.0</td>\n",
              "    </tr>\n",
              "    <tr>\n",
              "      <th>2021-06-29 10:48:00</th>\n",
              "      <td>476.0</td>\n",
              "      <td>2.0</td>\n",
              "      <td>413.0</td>\n",
              "      <td>1111.0</td>\n",
              "      <td>4179.0</td>\n",
              "      <td>287.0</td>\n",
              "      <td>8.0</td>\n",
              "      <td>477.0</td>\n",
              "      <td>282.0</td>\n",
              "      <td>224.0</td>\n",
              "      <td>93.0</td>\n",
              "      <td>365.0</td>\n",
              "    </tr>\n",
              "    <tr>\n",
              "      <th>2021-06-29 11:00:00</th>\n",
              "      <td>458.0</td>\n",
              "      <td>1.0</td>\n",
              "      <td>410.0</td>\n",
              "      <td>1111.0</td>\n",
              "      <td>4291.0</td>\n",
              "      <td>292.0</td>\n",
              "      <td>7.0</td>\n",
              "      <td>419.0</td>\n",
              "      <td>240.0</td>\n",
              "      <td>216.0</td>\n",
              "      <td>95.0</td>\n",
              "      <td>367.0</td>\n",
              "    </tr>\n",
              "    <tr>\n",
              "      <th>2021-06-29 11:03:00</th>\n",
              "      <td>453.0</td>\n",
              "      <td>1.0</td>\n",
              "      <td>410.0</td>\n",
              "      <td>1111.0</td>\n",
              "      <td>4301.0</td>\n",
              "      <td>292.0</td>\n",
              "      <td>4.0</td>\n",
              "      <td>394.0</td>\n",
              "      <td>229.0</td>\n",
              "      <td>212.0</td>\n",
              "      <td>95.0</td>\n",
              "      <td>367.0</td>\n",
              "    </tr>\n",
              "    <tr>\n",
              "      <th>2021-06-29 11:06:00</th>\n",
              "      <td>447.0</td>\n",
              "      <td>1.0</td>\n",
              "      <td>410.0</td>\n",
              "      <td>1111.0</td>\n",
              "      <td>4315.0</td>\n",
              "      <td>293.0</td>\n",
              "      <td>5.0</td>\n",
              "      <td>393.0</td>\n",
              "      <td>245.0</td>\n",
              "      <td>211.0</td>\n",
              "      <td>95.0</td>\n",
              "      <td>371.0</td>\n",
              "    </tr>\n",
              "    <tr>\n",
              "      <th>2021-06-29 11:07:00</th>\n",
              "      <td>450.0</td>\n",
              "      <td>1.0</td>\n",
              "      <td>409.0</td>\n",
              "      <td>1111.0</td>\n",
              "      <td>4323.0</td>\n",
              "      <td>295.0</td>\n",
              "      <td>5.0</td>\n",
              "      <td>395.0</td>\n",
              "      <td>253.0</td>\n",
              "      <td>216.0</td>\n",
              "      <td>95.0</td>\n",
              "      <td>377.0</td>\n",
              "    </tr>\n",
              "    <tr>\n",
              "      <th>2021-06-29 11:09:00</th>\n",
              "      <td>454.0</td>\n",
              "      <td>1.0</td>\n",
              "      <td>409.0</td>\n",
              "      <td>1111.0</td>\n",
              "      <td>4337.0</td>\n",
              "      <td>296.0</td>\n",
              "      <td>6.0</td>\n",
              "      <td>400.0</td>\n",
              "      <td>253.0</td>\n",
              "      <td>217.0</td>\n",
              "      <td>94.0</td>\n",
              "      <td>379.0</td>\n",
              "    </tr>\n",
              "    <tr>\n",
              "      <th>2021-06-29 11:10:00</th>\n",
              "      <td>457.0</td>\n",
              "      <td>1.0</td>\n",
              "      <td>409.0</td>\n",
              "      <td>1111.0</td>\n",
              "      <td>4348.0</td>\n",
              "      <td>298.0</td>\n",
              "      <td>6.0</td>\n",
              "      <td>407.0</td>\n",
              "      <td>260.0</td>\n",
              "      <td>221.0</td>\n",
              "      <td>95.0</td>\n",
              "      <td>381.0</td>\n",
              "    </tr>\n",
              "  </tbody>\n",
              "</table>\n",
              "</div>"
            ],
            "text/plain": [
              "                        O3  PM2.5    CO2    AUX1  ...    NO2     CO  AUX2    VOC\n",
              "Dates                                             ...                           \n",
              "2021-06-29 10:40:00  466.0    2.0  414.0  1111.0  ...  301.0  226.0  91.0  358.0\n",
              "2021-06-29 10:42:00  470.0    2.0  413.0  1111.0  ...  335.0  227.0  91.0  366.0\n",
              "2021-06-29 10:46:00  480.0    2.0  414.0  1111.0  ...  291.0  226.0  93.0  365.0\n",
              "2021-06-29 10:48:00  476.0    2.0  413.0  1111.0  ...  282.0  224.0  93.0  365.0\n",
              "2021-06-29 11:00:00  458.0    1.0  410.0  1111.0  ...  240.0  216.0  95.0  367.0\n",
              "2021-06-29 11:03:00  453.0    1.0  410.0  1111.0  ...  229.0  212.0  95.0  367.0\n",
              "2021-06-29 11:06:00  447.0    1.0  410.0  1111.0  ...  245.0  211.0  95.0  371.0\n",
              "2021-06-29 11:07:00  450.0    1.0  409.0  1111.0  ...  253.0  216.0  95.0  377.0\n",
              "2021-06-29 11:09:00  454.0    1.0  409.0  1111.0  ...  253.0  217.0  94.0  379.0\n",
              "2021-06-29 11:10:00  457.0    1.0  409.0  1111.0  ...  260.0  221.0  95.0  381.0\n",
              "\n",
              "[10 rows x 12 columns]"
            ]
          },
          "metadata": {}
        }
      ]
    },
    {
      "cell_type": "markdown",
      "metadata": {
        "id": "mSoMqPdosusS"
      },
      "source": [
        "# Testing stationarity "
      ]
    },
    {
      "cell_type": "markdown",
      "metadata": {
        "id": "TPJRpdI2yUa8"
      },
      "source": [
        "Test first 3 colums: O3, PM2.5, CO2"
      ]
    },
    {
      "cell_type": "code",
      "metadata": {
        "colab": {
          "base_uri": "https://localhost:8080/"
        },
        "id": "Bo-9aXBdt1vS",
        "outputId": "c70c32cb-8310-484b-dc15-8664f7189a63"
      },
      "source": [
        "from statsmodels.tsa.stattools import adfuller\n",
        "\n",
        "def test_stationarity(ts_data, column='', signif=0.05, series=False):\n",
        "    if series:\n",
        "        adf_test = adfuller(ts_data, autolag='AIC')\n",
        "    else:\n",
        "        adf_test = adfuller(ts_data[column], autolag='AIC')\n",
        "    p_value = adf_test[1]                   \n",
        "    if p_value <= signif:\n",
        "        test_result = \"Stationary\"\n",
        "    else:\n",
        "        test_result = \"Non-Stationary\"\n",
        "    return test_result\n",
        "\n",
        "adf_test_results1 = {\n",
        "    col: test_stationarity(df, col)\n",
        "    for col in df[df.columns[0:3]].columns\n",
        "}\n",
        "adf_test_results1    "
      ],
      "execution_count": 6,
      "outputs": [
        {
          "output_type": "stream",
          "name": "stderr",
          "text": [
            "/usr/local/lib/python3.7/dist-packages/statsmodels/tools/_testing.py:19: FutureWarning: pandas.util.testing is deprecated. Use the functions in the public API at pandas.testing instead.\n",
            "  import pandas.util.testing as tm\n"
          ]
        },
        {
          "output_type": "execute_result",
          "data": {
            "text/plain": [
              "{'CO2': 'Stationary', 'O3': 'Stationary', 'PM2.5': 'Stationary'}"
            ]
          },
          "metadata": {},
          "execution_count": 6
        }
      ]
    },
    {
      "cell_type": "markdown",
      "metadata": {
        "id": "82ep9uMlyy3p"
      },
      "source": [
        "Test T and Temp. int."
      ]
    },
    {
      "cell_type": "code",
      "metadata": {
        "colab": {
          "base_uri": "https://localhost:8080/"
        },
        "id": "7sWuv6DMye4_",
        "outputId": "5c01c7ce-5da0-4ad9-869c-addc3ef4eb79"
      },
      "source": [
        "adf_test_results2 = {\n",
        "    col: test_stationarity(df, col)\n",
        "    for col in df[df.columns[4:6]].columns\n",
        "}\n",
        "adf_test_results2   "
      ],
      "execution_count": 7,
      "outputs": [
        {
          "output_type": "execute_result",
          "data": {
            "text/plain": [
              "{'T': 'Stationary', 'Temp. int.': 'Stationary'}"
            ]
          },
          "metadata": {},
          "execution_count": 7
        }
      ]
    },
    {
      "cell_type": "markdown",
      "metadata": {
        "id": "b5F23GtmzE3m"
      },
      "source": [
        "Test PM10, RH and NO2"
      ]
    },
    {
      "cell_type": "code",
      "metadata": {
        "colab": {
          "base_uri": "https://localhost:8080/"
        },
        "id": "DNcRovvCyo2G",
        "outputId": "53727e31-2a96-44d1-888b-4a8f96d593dd"
      },
      "source": [
        "adf_test_results3 = {\n",
        "    col: test_stationarity(df, col)\n",
        "    for col in df[df.columns[6:9]].columns\n",
        "}\n",
        "adf_test_results3   "
      ],
      "execution_count": 8,
      "outputs": [
        {
          "output_type": "execute_result",
          "data": {
            "text/plain": [
              "{'NO2': 'Stationary', 'PM10': 'Stationary', 'RH': 'Stationary'}"
            ]
          },
          "metadata": {},
          "execution_count": 8
        }
      ]
    },
    {
      "cell_type": "markdown",
      "metadata": {
        "id": "_58XPApVzG8e"
      },
      "source": [
        "Test CO, AUX2 and VOC"
      ]
    },
    {
      "cell_type": "code",
      "metadata": {
        "colab": {
          "base_uri": "https://localhost:8080/"
        },
        "id": "fh41wPPhysdZ",
        "outputId": "dad03916-2106-47b0-e4d3-884b348aa995"
      },
      "source": [
        "adf_test_results4 = {\n",
        "    col: test_stationarity(df, col)\n",
        "    for col in df[df.columns[9:12]].columns\n",
        "}\n",
        "adf_test_results4   "
      ],
      "execution_count": 9,
      "outputs": [
        {
          "output_type": "execute_result",
          "data": {
            "text/plain": [
              "{'AUX2': 'Stationary', 'CO': 'Stationary', 'VOC': 'Stationary'}"
            ]
          },
          "metadata": {},
          "execution_count": 9
        }
      ]
    },
    {
      "cell_type": "markdown",
      "metadata": {
        "id": "l2MfpkeV9XnD"
      },
      "source": [
        "Testing AUX1 (pvalue= nan -> sceglie sempre else)"
      ]
    },
    {
      "cell_type": "code",
      "metadata": {
        "colab": {
          "base_uri": "https://localhost:8080/"
        },
        "id": "mfQfB7iy6noX",
        "outputId": "3b513437-99f4-477e-99b5-2d007f005222"
      },
      "source": [
        "from statsmodels.tsa.stattools import kpss\n",
        "\n",
        "df[['AUX1']]\n",
        "result= kpss(df['AUX1'])\n",
        "pvalue= result[1]\n",
        "if pvalue<=0.05:\n",
        "  print(\"Not Stationary\")\n",
        "else:\n",
        "  print(\"Stationary\")\n"
      ],
      "execution_count": 10,
      "outputs": [
        {
          "output_type": "stream",
          "name": "stdout",
          "text": [
            "Stationary\n"
          ]
        },
        {
          "output_type": "stream",
          "name": "stderr",
          "text": [
            "/usr/local/lib/python3.7/dist-packages/statsmodels/tsa/stattools.py:1685: FutureWarning: The behavior of using lags=None will change in the next release. Currently lags=None is the same as lags='legacy', and so a sample-size lag length is used. After the next release, the default will change to be the same as lags='auto' which uses an automatic lag length selection method. To silence this warning, either use 'auto' or 'legacy'\n",
            "  warn(msg, FutureWarning)\n",
            "/usr/local/lib/python3.7/dist-packages/statsmodels/tsa/stattools.py:1705: RuntimeWarning: invalid value encountered in double_scalars\n",
            "  kpss_stat = eta / s_hat\n"
          ]
        }
      ]
    },
    {
      "cell_type": "markdown",
      "metadata": {
        "id": "eMc5f18RwhE3"
      },
      "source": [
        "Converting to stationary with differencing"
      ]
    },
    {
      "cell_type": "code",
      "metadata": {
        "id": "Qm_2rqozwsdU"
      },
      "source": [
        "def differencing(data, column, order):\n",
        "    differenced_data = data[column].diff(order)\n",
        "    differenced_data.fillna(differenced_data.mean(), inplace=True)\n",
        "    return differenced_data\n",
        "for col in df.columns:\n",
        "    df[col] = differencing(df, col, 1)"
      ],
      "execution_count": 12,
      "outputs": []
    },
    {
      "cell_type": "markdown",
      "metadata": {
        "id": "Ou0RpT_SwxoM"
      },
      "source": [
        "Test for stationarity now"
      ]
    },
    {
      "cell_type": "markdown",
      "metadata": {
        "id": "7RYSsDzpaa8D"
      },
      "source": [
        "# VAR model"
      ]
    },
    {
      "cell_type": "markdown",
      "metadata": {
        "id": "6Hm_WaTKBIii"
      },
      "source": [
        "Removing AUX1"
      ]
    },
    {
      "cell_type": "code",
      "metadata": {
        "id": "Xq2WbQ5DAiN4"
      },
      "source": [
        "df=df.drop(['AUX1'], axis=1)"
      ],
      "execution_count": 11,
      "outputs": []
    },
    {
      "cell_type": "markdown",
      "metadata": {
        "id": "zTnhpqcGanKR"
      },
      "source": [
        "Finding best lag for VAR model"
      ]
    },
    {
      "cell_type": "code",
      "metadata": {
        "id": "U6aGV0OZabfz",
        "colab": {
          "base_uri": "https://localhost:8080/"
        },
        "outputId": "8fd3e0ef-8657-447b-a873-247d7b79f11b"
      },
      "source": [
        "from statsmodels.tsa.api import VAR\n",
        "max_lag = 40\n",
        "var_model = VAR(df)\n",
        "# select the best lag order\n",
        "lag_results = var_model.select_order(max_lag)\n",
        "selected_lag = lag_results.aic\n",
        "print(selected_lag)"
      ],
      "execution_count": 13,
      "outputs": [
        {
          "output_type": "stream",
          "name": "stderr",
          "text": [
            "/usr/local/lib/python3.7/dist-packages/statsmodels/tsa/base/tsa_model.py:219: ValueWarning: A date index has been provided, but it has no associated frequency information and so will be ignored when e.g. forecasting.\n",
            "  ' ignored when e.g. forecasting.', ValueWarning)\n"
          ]
        },
        {
          "output_type": "stream",
          "name": "stdout",
          "text": [
            "40\n"
          ]
        }
      ]
    },
    {
      "cell_type": "markdown",
      "metadata": {
        "id": "DgQw5M9cj9Y7"
      },
      "source": [
        "Finding anomalies"
      ]
    },
    {
      "cell_type": "code",
      "metadata": {
        "id": "3k2ft0XTj_YS",
        "colab": {
          "base_uri": "https://localhost:8080/",
          "height": 602
        },
        "outputId": "2df9169c-b385-44c6-a1fa-0d3e004e9f47"
      },
      "source": [
        "import numpy as np\n",
        "\n",
        "def find_anomalies(squared_errors):\n",
        "    threshold = np.mean(squared_errors) + np.std(squared_errors)\n",
        "    predictions = (squared_errors >= threshold).astype(int)\n",
        "    return predictions, threshold\n",
        "var = VAR(df)\n",
        "var_fitresults = var.fit(selected_lag)\n",
        "squared_errors = var_fitresults.resid.sum(axis=1) ** 2\n",
        "predictions, threshold = find_anomalies(squared_errors)\n",
        "\n",
        "data = df.iloc[selected_lag:, :]\n",
        "data['Predictions'] = predictions.values\n",
        "data"
      ],
      "execution_count": 14,
      "outputs": [
        {
          "output_type": "stream",
          "name": "stderr",
          "text": [
            "/usr/local/lib/python3.7/dist-packages/statsmodels/tsa/base/tsa_model.py:219: ValueWarning: A date index has been provided, but it has no associated frequency information and so will be ignored when e.g. forecasting.\n",
            "  ' ignored when e.g. forecasting.', ValueWarning)\n",
            "/usr/local/lib/python3.7/dist-packages/ipykernel_launcher.py:13: SettingWithCopyWarning: \n",
            "A value is trying to be set on a copy of a slice from a DataFrame.\n",
            "Try using .loc[row_indexer,col_indexer] = value instead\n",
            "\n",
            "See the caveats in the documentation: https://pandas.pydata.org/pandas-docs/stable/user_guide/indexing.html#returning-a-view-versus-a-copy\n",
            "  del sys.path[0]\n"
          ]
        },
        {
          "output_type": "execute_result",
          "data": {
            "text/html": [
              "<div>\n",
              "<style scoped>\n",
              "    .dataframe tbody tr th:only-of-type {\n",
              "        vertical-align: middle;\n",
              "    }\n",
              "\n",
              "    .dataframe tbody tr th {\n",
              "        vertical-align: top;\n",
              "    }\n",
              "\n",
              "    .dataframe thead th {\n",
              "        text-align: right;\n",
              "    }\n",
              "</style>\n",
              "<table border=\"1\" class=\"dataframe\">\n",
              "  <thead>\n",
              "    <tr style=\"text-align: right;\">\n",
              "      <th></th>\n",
              "      <th>O3</th>\n",
              "      <th>PM2.5</th>\n",
              "      <th>CO2</th>\n",
              "      <th>Temp. int.</th>\n",
              "      <th>T</th>\n",
              "      <th>PM10</th>\n",
              "      <th>RH</th>\n",
              "      <th>NO2</th>\n",
              "      <th>CO</th>\n",
              "      <th>AUX2</th>\n",
              "      <th>VOC</th>\n",
              "      <th>Predictions</th>\n",
              "    </tr>\n",
              "    <tr>\n",
              "      <th>Dates</th>\n",
              "      <th></th>\n",
              "      <th></th>\n",
              "      <th></th>\n",
              "      <th></th>\n",
              "      <th></th>\n",
              "      <th></th>\n",
              "      <th></th>\n",
              "      <th></th>\n",
              "      <th></th>\n",
              "      <th></th>\n",
              "      <th></th>\n",
              "      <th></th>\n",
              "    </tr>\n",
              "  </thead>\n",
              "  <tbody>\n",
              "    <tr>\n",
              "      <th>2021-06-29 12:46:00</th>\n",
              "      <td>465.0</td>\n",
              "      <td>1.0</td>\n",
              "      <td>407.0</td>\n",
              "      <td>4507.0</td>\n",
              "      <td>314.0</td>\n",
              "      <td>5.0</td>\n",
              "      <td>369.0</td>\n",
              "      <td>216.0</td>\n",
              "      <td>217.0</td>\n",
              "      <td>95.0</td>\n",
              "      <td>385.0</td>\n",
              "      <td>0</td>\n",
              "    </tr>\n",
              "    <tr>\n",
              "      <th>2021-06-29 12:48:00</th>\n",
              "      <td>468.0</td>\n",
              "      <td>1.0</td>\n",
              "      <td>407.0</td>\n",
              "      <td>4517.0</td>\n",
              "      <td>315.0</td>\n",
              "      <td>9.0</td>\n",
              "      <td>370.0</td>\n",
              "      <td>219.0</td>\n",
              "      <td>218.0</td>\n",
              "      <td>96.0</td>\n",
              "      <td>386.0</td>\n",
              "      <td>0</td>\n",
              "    </tr>\n",
              "    <tr>\n",
              "      <th>2021-06-29 12:51:00</th>\n",
              "      <td>473.0</td>\n",
              "      <td>1.0</td>\n",
              "      <td>408.0</td>\n",
              "      <td>4534.0</td>\n",
              "      <td>317.0</td>\n",
              "      <td>5.0</td>\n",
              "      <td>362.0</td>\n",
              "      <td>228.0</td>\n",
              "      <td>218.0</td>\n",
              "      <td>95.0</td>\n",
              "      <td>389.0</td>\n",
              "      <td>0</td>\n",
              "    </tr>\n",
              "    <tr>\n",
              "      <th>2021-06-29 12:54:00</th>\n",
              "      <td>473.0</td>\n",
              "      <td>1.0</td>\n",
              "      <td>408.0</td>\n",
              "      <td>4539.0</td>\n",
              "      <td>316.0</td>\n",
              "      <td>5.0</td>\n",
              "      <td>370.0</td>\n",
              "      <td>214.0</td>\n",
              "      <td>217.0</td>\n",
              "      <td>96.0</td>\n",
              "      <td>386.0</td>\n",
              "      <td>0</td>\n",
              "    </tr>\n",
              "    <tr>\n",
              "      <th>2021-06-29 12:55:00</th>\n",
              "      <td>475.0</td>\n",
              "      <td>1.0</td>\n",
              "      <td>408.0</td>\n",
              "      <td>4546.0</td>\n",
              "      <td>315.0</td>\n",
              "      <td>6.0</td>\n",
              "      <td>370.0</td>\n",
              "      <td>225.0</td>\n",
              "      <td>218.0</td>\n",
              "      <td>97.0</td>\n",
              "      <td>388.0</td>\n",
              "      <td>0</td>\n",
              "    </tr>\n",
              "    <tr>\n",
              "      <th>...</th>\n",
              "      <td>...</td>\n",
              "      <td>...</td>\n",
              "      <td>...</td>\n",
              "      <td>...</td>\n",
              "      <td>...</td>\n",
              "      <td>...</td>\n",
              "      <td>...</td>\n",
              "      <td>...</td>\n",
              "      <td>...</td>\n",
              "      <td>...</td>\n",
              "      <td>...</td>\n",
              "      <td>...</td>\n",
              "    </tr>\n",
              "    <tr>\n",
              "      <th>2021-10-04 08:40:00</th>\n",
              "      <td>427.0</td>\n",
              "      <td>9.0</td>\n",
              "      <td>497.0</td>\n",
              "      <td>3054.0</td>\n",
              "      <td>182.0</td>\n",
              "      <td>16.0</td>\n",
              "      <td>999.0</td>\n",
              "      <td>319.0</td>\n",
              "      <td>245.0</td>\n",
              "      <td>92.0</td>\n",
              "      <td>372.0</td>\n",
              "      <td>0</td>\n",
              "    </tr>\n",
              "    <tr>\n",
              "      <th>2021-10-04 08:41:00</th>\n",
              "      <td>430.0</td>\n",
              "      <td>9.0</td>\n",
              "      <td>497.0</td>\n",
              "      <td>3066.0</td>\n",
              "      <td>183.0</td>\n",
              "      <td>15.0</td>\n",
              "      <td>999.0</td>\n",
              "      <td>318.0</td>\n",
              "      <td>245.0</td>\n",
              "      <td>92.0</td>\n",
              "      <td>371.0</td>\n",
              "      <td>0</td>\n",
              "    </tr>\n",
              "    <tr>\n",
              "      <th>2021-10-04 08:43:00</th>\n",
              "      <td>428.0</td>\n",
              "      <td>9.0</td>\n",
              "      <td>496.0</td>\n",
              "      <td>3074.0</td>\n",
              "      <td>184.0</td>\n",
              "      <td>14.0</td>\n",
              "      <td>999.0</td>\n",
              "      <td>316.0</td>\n",
              "      <td>245.0</td>\n",
              "      <td>92.0</td>\n",
              "      <td>369.0</td>\n",
              "      <td>0</td>\n",
              "    </tr>\n",
              "    <tr>\n",
              "      <th>2021-10-04 08:44:00</th>\n",
              "      <td>429.0</td>\n",
              "      <td>9.0</td>\n",
              "      <td>498.0</td>\n",
              "      <td>3080.0</td>\n",
              "      <td>184.0</td>\n",
              "      <td>14.0</td>\n",
              "      <td>999.0</td>\n",
              "      <td>319.0</td>\n",
              "      <td>245.0</td>\n",
              "      <td>91.0</td>\n",
              "      <td>372.0</td>\n",
              "      <td>0</td>\n",
              "    </tr>\n",
              "    <tr>\n",
              "      <th>2021-10-04 08:46:00</th>\n",
              "      <td>434.0</td>\n",
              "      <td>9.0</td>\n",
              "      <td>495.0</td>\n",
              "      <td>3085.0</td>\n",
              "      <td>185.0</td>\n",
              "      <td>16.0</td>\n",
              "      <td>999.0</td>\n",
              "      <td>318.0</td>\n",
              "      <td>245.0</td>\n",
              "      <td>93.0</td>\n",
              "      <td>375.0</td>\n",
              "      <td>0</td>\n",
              "    </tr>\n",
              "  </tbody>\n",
              "</table>\n",
              "<p>85814 rows × 12 columns</p>\n",
              "</div>"
            ],
            "text/plain": [
              "                        O3  PM2.5    CO2  ...  AUX2    VOC  Predictions\n",
              "Dates                                     ...                          \n",
              "2021-06-29 12:46:00  465.0    1.0  407.0  ...  95.0  385.0            0\n",
              "2021-06-29 12:48:00  468.0    1.0  407.0  ...  96.0  386.0            0\n",
              "2021-06-29 12:51:00  473.0    1.0  408.0  ...  95.0  389.0            0\n",
              "2021-06-29 12:54:00  473.0    1.0  408.0  ...  96.0  386.0            0\n",
              "2021-06-29 12:55:00  475.0    1.0  408.0  ...  97.0  388.0            0\n",
              "...                    ...    ...    ...  ...   ...    ...          ...\n",
              "2021-10-04 08:40:00  427.0    9.0  497.0  ...  92.0  372.0            0\n",
              "2021-10-04 08:41:00  430.0    9.0  497.0  ...  92.0  371.0            0\n",
              "2021-10-04 08:43:00  428.0    9.0  496.0  ...  92.0  369.0            0\n",
              "2021-10-04 08:44:00  429.0    9.0  498.0  ...  91.0  372.0            0\n",
              "2021-10-04 08:46:00  434.0    9.0  495.0  ...  93.0  375.0            0\n",
              "\n",
              "[85814 rows x 12 columns]"
            ]
          },
          "metadata": {},
          "execution_count": 14
        }
      ]
    },
    {
      "cell_type": "code",
      "metadata": {
        "colab": {
          "base_uri": "https://localhost:8080/"
        },
        "id": "xHrhlS95BZJF",
        "outputId": "827e014e-3b2e-4631-bb28-879f8aade498"
      },
      "source": [
        "data['Predictions'].value_counts()"
      ],
      "execution_count": 15,
      "outputs": [
        {
          "output_type": "execute_result",
          "data": {
            "text/plain": [
              "0    85243\n",
              "1      571\n",
              "Name: Predictions, dtype: int64"
            ]
          },
          "metadata": {},
          "execution_count": 15
        }
      ]
    }
  ]
}