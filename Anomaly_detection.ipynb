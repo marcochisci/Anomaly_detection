{
  "nbformat": 4,
  "nbformat_minor": 0,
  "metadata": {
    "colab": {
      "name": "Anomaly_detection.ipynb",
      "provenance": [],
      "collapsed_sections": [],
      "authorship_tag": "ABX9TyOjnUkSgNvEykBtKM89ZNS6",
      "include_colab_link": true
    },
    "kernelspec": {
      "name": "python3",
      "display_name": "Python 3"
    },
    "language_info": {
      "name": "python"
    }
  },
  "cells": [
    {
      "cell_type": "markdown",
      "metadata": {
        "id": "view-in-github",
        "colab_type": "text"
      },
      "source": [
        "<a href=\"https://colab.research.google.com/github/marcochisci/Anomaly_detection/blob/main/Anomaly_detection.ipynb\" target=\"_parent\"><img src=\"https://colab.research.google.com/assets/colab-badge.svg\" alt=\"Open In Colab\"/></a>"
      ]
    },
    {
      "cell_type": "markdown",
      "metadata": {
        "id": "njhT4x0rzE97"
      },
      "source": [
        "# Install Apache Spark 3.0.0"
      ]
    },
    {
      "cell_type": "code",
      "metadata": {
        "id": "RZM6XcSMy4IM"
      },
      "source": [
        "# install Java8\n",
        "!apt-get install openjdk-8-jdk-headless -qq > /dev/null\n",
        "# download spark3.0.0\n",
        "!wget -q https://archive.apache.org/dist/spark/spark-3.0.0/spark-3.0.0-bin-hadoop3.2.tgz\n",
        "# unzip it\n",
        "!tar xf spark-3.0.0-bin-hadoop3.2.tgz\n",
        "# install findspark \n",
        "!pip install -q findspark"
      ],
      "execution_count": 1,
      "outputs": []
    },
    {
      "cell_type": "markdown",
      "metadata": {
        "id": "-sZSTxiKzbB-"
      },
      "source": [
        "# Set Environment Variables"
      ]
    },
    {
      "cell_type": "code",
      "metadata": {
        "id": "DowTY2Lmzi9v"
      },
      "source": [
        "import os\n",
        "os.environ[\"JAVA_HOME\"] = \"/usr/lib/jvm/java-8-openjdk-amd64\"\n",
        "os.environ[\"SPARK_HOME\"] = \"/content/spark-3.0.0-bin-hadoop3.2\""
      ],
      "execution_count": 2,
      "outputs": []
    },
    {
      "cell_type": "markdown",
      "metadata": {
        "id": "JqqvJo3i8PGC"
      },
      "source": [
        "#Create local spark session\n"
      ]
    },
    {
      "cell_type": "code",
      "metadata": {
        "id": "iTk4DGI98RLW"
      },
      "source": [
        "import findspark\n",
        "findspark.init()\n",
        "from pyspark.context import SparkContext\n",
        "from pyspark.sql.session import SparkSession\n",
        "sc = SparkContext('local')\n",
        "spark = SparkSession(sc)"
      ],
      "execution_count": 3,
      "outputs": []
    },
    {
      "cell_type": "markdown",
      "metadata": {
        "id": "v7y-c6hXzql5"
      },
      "source": [
        "Installation Test and pyspark version"
      ]
    },
    {
      "cell_type": "code",
      "metadata": {
        "colab": {
          "base_uri": "https://localhost:8080/"
        },
        "id": "tyr7niAHzuAF",
        "outputId": "9fe0c2c3-d6f0-4adb-bcd7-31676b4520b5"
      },
      "source": [
        "#create a test schema\n",
        "from pyspark.sql.types import *\n",
        "from pyspark.sql import Row\n",
        "\n",
        "schema = StructType([StructField('name', StringType()), StructField('age',IntegerType())])\n",
        "rows = [Row(name='Severin', age=33), Row(name='John', age=48)]\n",
        "df = spark.createDataFrame(rows, schema)\n",
        "\n",
        "df.printSchema()\n",
        "df.show()\n",
        "\n",
        "\n",
        "# Check the pyspark version\n",
        "import pyspark\n",
        "print(pyspark.__version__)\n"
      ],
      "execution_count": 4,
      "outputs": [
        {
          "output_type": "stream",
          "name": "stdout",
          "text": [
            "root\n",
            " |-- name: string (nullable = true)\n",
            " |-- age: integer (nullable = true)\n",
            "\n",
            "+-------+---+\n",
            "|   name|age|\n",
            "+-------+---+\n",
            "|Severin| 33|\n",
            "|   John| 48|\n",
            "+-------+---+\n",
            "\n",
            "3.0.0\n"
          ]
        }
      ]
    },
    {
      "cell_type": "markdown",
      "metadata": {
        "id": "Slvyz6Ils5MI"
      },
      "source": [
        "# Airquino Table Data"
      ]
    },
    {
      "cell_type": "code",
      "metadata": {
        "colab": {
          "base_uri": "https://localhost:8080/",
          "height": 442
        },
        "id": "ig7ZKLKlirHv",
        "outputId": "5f16edfb-f7df-4d40-f6b9-b09978bb64d9"
      },
      "source": [
        "import pandas as pd\n",
        "import psycopg2\n",
        "import datetime\n",
        "import matplotlib.pyplot as plt\n",
        "import matplotlib.ticker as ticker\n",
        "import matplotlib.dates as mdates\n",
        "\n",
        "\n",
        "conn = psycopg2.connect(host='playground.magentalab.it', port='55432', database='airqino', user='datareader', password='homntLZnlhQd9prtVA9SFezQek')\n",
        "\n",
        "query = \"\"\"select * from crosstab(\n",
        "  'select sd.data_acquired as timestamp, s.sensor_type ,  sd.float_value as value \n",
        "from station_data sd join sensor s on s.id = sd.sensor_id\n",
        "where sd.data_acquired >= to_timestamp(''2021-06-01 00:00:00'', ''YYYY-mm-dd HH24:MI:SS'')\n",
        "and sd.station_id = 23284701 order by sd.data_acquired asc, 1'\n",
        " , $$VALUES ('O3'::varchar), ('PM2.5'::varchar), ('CO2'::varchar), ('AUX1'::varchar), ('Temp. int.'::varchar), ('T'::varchar)\n",
        " , ('PM10'::varchar), ('RH'::varchar), ('NO2'::varchar), ('CO'::varchar), ('AUX2'::varchar), ('VOC'::varchar)$$\n",
        ") AS value (\"Dates\" timestamp, \"O3\" float, \"PM2.5\" float, \"CO2\" float, \"AUX1\" float, \"Temp. int.\" float, \"T\" float, \"PM10\" float,\n",
        "\"RH\" float, \"NO2\" float, \"CO\" float, \"AUX2\" float, \"VOC\" float);\"\"\".format(29510692, 23284701)  #23284701 is a specific station\n",
        "\n",
        "df = pd.read_sql(query, conn)\n",
        "df= df.set_index('Dates')\n",
        "\n",
        "#removing nans\n",
        "df = df.dropna()\n",
        "\n",
        "display(df.head(10))"
      ],
      "execution_count": 5,
      "outputs": [
        {
          "output_type": "stream",
          "name": "stderr",
          "text": [
            "/usr/local/lib/python3.7/dist-packages/psycopg2/__init__.py:144: UserWarning: The psycopg2 wheel package will be renamed from release 2.8; in order to keep installing from binary please use \"pip install psycopg2-binary\" instead. For details see: <http://initd.org/psycopg/docs/install.html#binary-install-from-pypi>.\n",
            "  \"\"\")\n"
          ]
        },
        {
          "output_type": "display_data",
          "data": {
            "text/html": [
              "<div>\n",
              "<style scoped>\n",
              "    .dataframe tbody tr th:only-of-type {\n",
              "        vertical-align: middle;\n",
              "    }\n",
              "\n",
              "    .dataframe tbody tr th {\n",
              "        vertical-align: top;\n",
              "    }\n",
              "\n",
              "    .dataframe thead th {\n",
              "        text-align: right;\n",
              "    }\n",
              "</style>\n",
              "<table border=\"1\" class=\"dataframe\">\n",
              "  <thead>\n",
              "    <tr style=\"text-align: right;\">\n",
              "      <th></th>\n",
              "      <th>O3</th>\n",
              "      <th>PM2.5</th>\n",
              "      <th>CO2</th>\n",
              "      <th>AUX1</th>\n",
              "      <th>Temp. int.</th>\n",
              "      <th>T</th>\n",
              "      <th>PM10</th>\n",
              "      <th>RH</th>\n",
              "      <th>NO2</th>\n",
              "      <th>CO</th>\n",
              "      <th>AUX2</th>\n",
              "      <th>VOC</th>\n",
              "    </tr>\n",
              "    <tr>\n",
              "      <th>Dates</th>\n",
              "      <th></th>\n",
              "      <th></th>\n",
              "      <th></th>\n",
              "      <th></th>\n",
              "      <th></th>\n",
              "      <th></th>\n",
              "      <th></th>\n",
              "      <th></th>\n",
              "      <th></th>\n",
              "      <th></th>\n",
              "      <th></th>\n",
              "      <th></th>\n",
              "    </tr>\n",
              "  </thead>\n",
              "  <tbody>\n",
              "    <tr>\n",
              "      <th>2021-06-29 10:40:00</th>\n",
              "      <td>466.0</td>\n",
              "      <td>2.0</td>\n",
              "      <td>414.0</td>\n",
              "      <td>1111.0</td>\n",
              "      <td>3896.0</td>\n",
              "      <td>276.0</td>\n",
              "      <td>9.0</td>\n",
              "      <td>512.0</td>\n",
              "      <td>301.0</td>\n",
              "      <td>226.0</td>\n",
              "      <td>91.0</td>\n",
              "      <td>358.0</td>\n",
              "    </tr>\n",
              "    <tr>\n",
              "      <th>2021-06-29 10:42:00</th>\n",
              "      <td>470.0</td>\n",
              "      <td>2.0</td>\n",
              "      <td>413.0</td>\n",
              "      <td>1111.0</td>\n",
              "      <td>3983.0</td>\n",
              "      <td>279.0</td>\n",
              "      <td>11.0</td>\n",
              "      <td>513.0</td>\n",
              "      <td>335.0</td>\n",
              "      <td>227.0</td>\n",
              "      <td>91.0</td>\n",
              "      <td>366.0</td>\n",
              "    </tr>\n",
              "    <tr>\n",
              "      <th>2021-06-29 10:46:00</th>\n",
              "      <td>480.0</td>\n",
              "      <td>2.0</td>\n",
              "      <td>414.0</td>\n",
              "      <td>1111.0</td>\n",
              "      <td>4147.0</td>\n",
              "      <td>286.0</td>\n",
              "      <td>10.0</td>\n",
              "      <td>487.0</td>\n",
              "      <td>291.0</td>\n",
              "      <td>226.0</td>\n",
              "      <td>93.0</td>\n",
              "      <td>365.0</td>\n",
              "    </tr>\n",
              "    <tr>\n",
              "      <th>2021-06-29 10:48:00</th>\n",
              "      <td>476.0</td>\n",
              "      <td>2.0</td>\n",
              "      <td>413.0</td>\n",
              "      <td>1111.0</td>\n",
              "      <td>4179.0</td>\n",
              "      <td>287.0</td>\n",
              "      <td>8.0</td>\n",
              "      <td>477.0</td>\n",
              "      <td>282.0</td>\n",
              "      <td>224.0</td>\n",
              "      <td>93.0</td>\n",
              "      <td>365.0</td>\n",
              "    </tr>\n",
              "    <tr>\n",
              "      <th>2021-06-29 11:00:00</th>\n",
              "      <td>458.0</td>\n",
              "      <td>1.0</td>\n",
              "      <td>410.0</td>\n",
              "      <td>1111.0</td>\n",
              "      <td>4291.0</td>\n",
              "      <td>292.0</td>\n",
              "      <td>7.0</td>\n",
              "      <td>419.0</td>\n",
              "      <td>240.0</td>\n",
              "      <td>216.0</td>\n",
              "      <td>95.0</td>\n",
              "      <td>367.0</td>\n",
              "    </tr>\n",
              "    <tr>\n",
              "      <th>2021-06-29 11:03:00</th>\n",
              "      <td>453.0</td>\n",
              "      <td>1.0</td>\n",
              "      <td>410.0</td>\n",
              "      <td>1111.0</td>\n",
              "      <td>4301.0</td>\n",
              "      <td>292.0</td>\n",
              "      <td>4.0</td>\n",
              "      <td>394.0</td>\n",
              "      <td>229.0</td>\n",
              "      <td>212.0</td>\n",
              "      <td>95.0</td>\n",
              "      <td>367.0</td>\n",
              "    </tr>\n",
              "    <tr>\n",
              "      <th>2021-06-29 11:06:00</th>\n",
              "      <td>447.0</td>\n",
              "      <td>1.0</td>\n",
              "      <td>410.0</td>\n",
              "      <td>1111.0</td>\n",
              "      <td>4315.0</td>\n",
              "      <td>293.0</td>\n",
              "      <td>5.0</td>\n",
              "      <td>393.0</td>\n",
              "      <td>245.0</td>\n",
              "      <td>211.0</td>\n",
              "      <td>95.0</td>\n",
              "      <td>371.0</td>\n",
              "    </tr>\n",
              "    <tr>\n",
              "      <th>2021-06-29 11:07:00</th>\n",
              "      <td>450.0</td>\n",
              "      <td>1.0</td>\n",
              "      <td>409.0</td>\n",
              "      <td>1111.0</td>\n",
              "      <td>4323.0</td>\n",
              "      <td>295.0</td>\n",
              "      <td>5.0</td>\n",
              "      <td>395.0</td>\n",
              "      <td>253.0</td>\n",
              "      <td>216.0</td>\n",
              "      <td>95.0</td>\n",
              "      <td>377.0</td>\n",
              "    </tr>\n",
              "    <tr>\n",
              "      <th>2021-06-29 11:09:00</th>\n",
              "      <td>454.0</td>\n",
              "      <td>1.0</td>\n",
              "      <td>409.0</td>\n",
              "      <td>1111.0</td>\n",
              "      <td>4337.0</td>\n",
              "      <td>296.0</td>\n",
              "      <td>6.0</td>\n",
              "      <td>400.0</td>\n",
              "      <td>253.0</td>\n",
              "      <td>217.0</td>\n",
              "      <td>94.0</td>\n",
              "      <td>379.0</td>\n",
              "    </tr>\n",
              "    <tr>\n",
              "      <th>2021-06-29 11:10:00</th>\n",
              "      <td>457.0</td>\n",
              "      <td>1.0</td>\n",
              "      <td>409.0</td>\n",
              "      <td>1111.0</td>\n",
              "      <td>4348.0</td>\n",
              "      <td>298.0</td>\n",
              "      <td>6.0</td>\n",
              "      <td>407.0</td>\n",
              "      <td>260.0</td>\n",
              "      <td>221.0</td>\n",
              "      <td>95.0</td>\n",
              "      <td>381.0</td>\n",
              "    </tr>\n",
              "  </tbody>\n",
              "</table>\n",
              "</div>"
            ],
            "text/plain": [
              "                        O3  PM2.5    CO2    AUX1  ...    NO2     CO  AUX2    VOC\n",
              "Dates                                             ...                           \n",
              "2021-06-29 10:40:00  466.0    2.0  414.0  1111.0  ...  301.0  226.0  91.0  358.0\n",
              "2021-06-29 10:42:00  470.0    2.0  413.0  1111.0  ...  335.0  227.0  91.0  366.0\n",
              "2021-06-29 10:46:00  480.0    2.0  414.0  1111.0  ...  291.0  226.0  93.0  365.0\n",
              "2021-06-29 10:48:00  476.0    2.0  413.0  1111.0  ...  282.0  224.0  93.0  365.0\n",
              "2021-06-29 11:00:00  458.0    1.0  410.0  1111.0  ...  240.0  216.0  95.0  367.0\n",
              "2021-06-29 11:03:00  453.0    1.0  410.0  1111.0  ...  229.0  212.0  95.0  367.0\n",
              "2021-06-29 11:06:00  447.0    1.0  410.0  1111.0  ...  245.0  211.0  95.0  371.0\n",
              "2021-06-29 11:07:00  450.0    1.0  409.0  1111.0  ...  253.0  216.0  95.0  377.0\n",
              "2021-06-29 11:09:00  454.0    1.0  409.0  1111.0  ...  253.0  217.0  94.0  379.0\n",
              "2021-06-29 11:10:00  457.0    1.0  409.0  1111.0  ...  260.0  221.0  95.0  381.0\n",
              "\n",
              "[10 rows x 12 columns]"
            ]
          },
          "metadata": {}
        }
      ]
    },
    {
      "cell_type": "markdown",
      "metadata": {
        "id": "mSoMqPdosusS"
      },
      "source": [
        "# Testing stationarity "
      ]
    },
    {
      "cell_type": "markdown",
      "metadata": {
        "id": "TPJRpdI2yUa8"
      },
      "source": [
        "Test first 3 colums: O3, PM2.5, CO2"
      ]
    },
    {
      "cell_type": "code",
      "metadata": {
        "colab": {
          "base_uri": "https://localhost:8080/"
        },
        "id": "Bo-9aXBdt1vS",
        "outputId": "d14cd84e-f07b-4d62-b6ac-e118e94274b6"
      },
      "source": [
        "from statsmodels.tsa.stattools import adfuller\n",
        "\n",
        "def test_stationarity(ts_data, column='', signif=0.05, series=False):\n",
        "    if series:\n",
        "        adf_test = adfuller(ts_data, autolag='AIC')\n",
        "    else:\n",
        "        adf_test = adfuller(ts_data[column], autolag='AIC')\n",
        "    p_value = adf_test[1]                   \n",
        "    if p_value <= signif:\n",
        "        test_result = \"Stationary\"\n",
        "    else:\n",
        "        test_result = \"Non-Stationary\"\n",
        "    return test_result\n",
        "\n",
        "adf_test_results1 = {\n",
        "    col: test_stationarity(df, col)\n",
        "    for col in df[df.columns[0:3]].columns\n",
        "}\n",
        "adf_test_results1    "
      ],
      "execution_count": 6,
      "outputs": [
        {
          "output_type": "stream",
          "name": "stderr",
          "text": [
            "/usr/local/lib/python3.7/dist-packages/statsmodels/tools/_testing.py:19: FutureWarning: pandas.util.testing is deprecated. Use the functions in the public API at pandas.testing instead.\n",
            "  import pandas.util.testing as tm\n"
          ]
        },
        {
          "output_type": "execute_result",
          "data": {
            "text/plain": [
              "{'CO2': 'Stationary', 'O3': 'Stationary', 'PM2.5': 'Stationary'}"
            ]
          },
          "metadata": {},
          "execution_count": 6
        }
      ]
    },
    {
      "cell_type": "markdown",
      "metadata": {
        "id": "82ep9uMlyy3p"
      },
      "source": [
        "Test T and Temp. int."
      ]
    },
    {
      "cell_type": "code",
      "metadata": {
        "colab": {
          "base_uri": "https://localhost:8080/"
        },
        "id": "7sWuv6DMye4_",
        "outputId": "fbbfe137-ae18-40a5-e356-0d372142eea8"
      },
      "source": [
        "adf_test_results2 = {\n",
        "    col: test_stationarity(df, col)\n",
        "    for col in df[df.columns[4:6]].columns\n",
        "}\n",
        "adf_test_results2   "
      ],
      "execution_count": 8,
      "outputs": [
        {
          "output_type": "execute_result",
          "data": {
            "text/plain": [
              "{'T': 'Stationary', 'Temp. int.': 'Stationary'}"
            ]
          },
          "metadata": {},
          "execution_count": 8
        }
      ]
    },
    {
      "cell_type": "markdown",
      "metadata": {
        "id": "b5F23GtmzE3m"
      },
      "source": [
        "Test PM10, RH and NO2"
      ]
    },
    {
      "cell_type": "code",
      "metadata": {
        "colab": {
          "base_uri": "https://localhost:8080/"
        },
        "id": "DNcRovvCyo2G",
        "outputId": "d8fcb4bc-958a-4599-ae36-e30f24e2437b"
      },
      "source": [
        "adf_test_results3 = {\n",
        "    col: test_stationarity(df, col)\n",
        "    for col in df[df.columns[6:9]].columns\n",
        "}\n",
        "adf_test_results3   "
      ],
      "execution_count": 9,
      "outputs": [
        {
          "output_type": "execute_result",
          "data": {
            "text/plain": [
              "{'NO2': 'Stationary', 'PM10': 'Stationary', 'RH': 'Stationary'}"
            ]
          },
          "metadata": {},
          "execution_count": 9
        }
      ]
    },
    {
      "cell_type": "markdown",
      "metadata": {
        "id": "_58XPApVzG8e"
      },
      "source": [
        "Test CO, AUX2 and VOC"
      ]
    },
    {
      "cell_type": "code",
      "metadata": {
        "colab": {
          "base_uri": "https://localhost:8080/"
        },
        "id": "fh41wPPhysdZ",
        "outputId": "b45a5469-b359-42d0-ced1-361b45e26b45"
      },
      "source": [
        "adf_test_results4 = {\n",
        "    col: test_stationarity(df, col)\n",
        "    for col in df[df.columns[9:12]].columns\n",
        "}\n",
        "adf_test_results4   "
      ],
      "execution_count": 10,
      "outputs": [
        {
          "output_type": "execute_result",
          "data": {
            "text/plain": [
              "{'AUX2': 'Stationary', 'CO': 'Stationary', 'VOC': 'Stationary'}"
            ]
          },
          "metadata": {},
          "execution_count": 10
        }
      ]
    },
    {
      "cell_type": "markdown",
      "metadata": {
        "id": "l2MfpkeV9XnD"
      },
      "source": [
        "Testing AUX1 (pvalue= nan -> sceglie sempre else)"
      ]
    },
    {
      "cell_type": "code",
      "metadata": {
        "colab": {
          "base_uri": "https://localhost:8080/"
        },
        "id": "mfQfB7iy6noX",
        "outputId": "7ed8436d-6db4-40ce-db7d-570f9a50acc5"
      },
      "source": [
        "from statsmodels.tsa.stattools import kpss\n",
        "\n",
        "df[['AUX1']]\n",
        "result= kpss(df['AUX1'])\n",
        "pvalue= result[1]\n",
        "if pvalue<=0.05:\n",
        "  print(\"Not Stationary\")\n",
        "else:\n",
        "  print(\"Stationary\")\n"
      ],
      "execution_count": 11,
      "outputs": [
        {
          "output_type": "stream",
          "name": "stdout",
          "text": [
            "Stationary\n"
          ]
        },
        {
          "output_type": "stream",
          "name": "stderr",
          "text": [
            "/usr/local/lib/python3.7/dist-packages/statsmodels/tsa/stattools.py:1685: FutureWarning: The behavior of using lags=None will change in the next release. Currently lags=None is the same as lags='legacy', and so a sample-size lag length is used. After the next release, the default will change to be the same as lags='auto' which uses an automatic lag length selection method. To silence this warning, either use 'auto' or 'legacy'\n",
            "  warn(msg, FutureWarning)\n",
            "/usr/local/lib/python3.7/dist-packages/statsmodels/tsa/stattools.py:1705: RuntimeWarning: invalid value encountered in double_scalars\n",
            "  kpss_stat = eta / s_hat\n"
          ]
        }
      ]
    },
    {
      "cell_type": "markdown",
      "metadata": {
        "id": "eMc5f18RwhE3"
      },
      "source": [
        "Converting to stationary with differencing"
      ]
    },
    {
      "cell_type": "code",
      "metadata": {
        "id": "Qm_2rqozwsdU"
      },
      "source": [
        "def differencing(data, column, order):\n",
        "    differenced_data = data[column].diff(order)\n",
        "    differenced_data.fillna(differenced_data.mean(), inplace=True)\n",
        "    return differenced_data\n",
        "for col in df.columns:\n",
        "    df[col] = differencing(df, col, 1)"
      ],
      "execution_count": 12,
      "outputs": []
    },
    {
      "cell_type": "markdown",
      "metadata": {
        "id": "Ou0RpT_SwxoM"
      },
      "source": [
        "Test for stationarity now"
      ]
    },
    {
      "cell_type": "markdown",
      "metadata": {
        "id": "7RYSsDzpaa8D"
      },
      "source": [
        "# VAR model"
      ]
    },
    {
      "cell_type": "markdown",
      "metadata": {
        "id": "zTnhpqcGanKR"
      },
      "source": [
        "Finding best lag for VAR model"
      ]
    },
    {
      "cell_type": "code",
      "metadata": {
        "id": "U6aGV0OZabfz",
        "colab": {
          "base_uri": "https://localhost:8080/",
          "height": 424
        },
        "outputId": "e5872006-2cbc-4fdf-ec24-ac0468bfb4ba"
      },
      "source": [
        "from statsmodels.tsa.api import VAR\n",
        "max_lag = 20\n",
        "var_model = VAR(df)\n",
        "# select the best lag order\n",
        "lag_results = var_model.select_order(max_lag)\n",
        "selected_lag = lag_results.aic\n",
        "print(selected_lag)"
      ],
      "execution_count": 15,
      "outputs": [
        {
          "output_type": "stream",
          "name": "stderr",
          "text": [
            "/usr/local/lib/python3.7/dist-packages/statsmodels/tsa/base/tsa_model.py:219: ValueWarning: A date index has been provided, but it has no associated frequency information and so will be ignored when e.g. forecasting.\n",
            "  ' ignored when e.g. forecasting.', ValueWarning)\n"
          ]
        },
        {
          "output_type": "error",
          "ename": "LinAlgError",
          "evalue": "ignored",
          "traceback": [
            "\u001b[0;31m---------------------------------------------------------------------------\u001b[0m",
            "\u001b[0;31mLinAlgError\u001b[0m                               Traceback (most recent call last)",
            "\u001b[0;32m<ipython-input-15-fd20cbaf7d7b>\u001b[0m in \u001b[0;36m<module>\u001b[0;34m()\u001b[0m\n\u001b[1;32m      3\u001b[0m \u001b[0mvar_model\u001b[0m \u001b[0;34m=\u001b[0m \u001b[0mVAR\u001b[0m\u001b[0;34m(\u001b[0m\u001b[0mdf\u001b[0m\u001b[0;34m)\u001b[0m\u001b[0;34m\u001b[0m\u001b[0;34m\u001b[0m\u001b[0m\n\u001b[1;32m      4\u001b[0m \u001b[0;31m# select the best lag order\u001b[0m\u001b[0;34m\u001b[0m\u001b[0;34m\u001b[0m\u001b[0;34m\u001b[0m\u001b[0m\n\u001b[0;32m----> 5\u001b[0;31m \u001b[0mlag_results\u001b[0m \u001b[0;34m=\u001b[0m \u001b[0mvar_model\u001b[0m\u001b[0;34m.\u001b[0m\u001b[0mselect_order\u001b[0m\u001b[0;34m(\u001b[0m\u001b[0mmax_lag\u001b[0m\u001b[0;34m)\u001b[0m\u001b[0;34m\u001b[0m\u001b[0;34m\u001b[0m\u001b[0m\n\u001b[0m\u001b[1;32m      6\u001b[0m \u001b[0mselected_lag\u001b[0m \u001b[0;34m=\u001b[0m \u001b[0mlag_results\u001b[0m\u001b[0;34m.\u001b[0m\u001b[0maic\u001b[0m\u001b[0;34m\u001b[0m\u001b[0;34m\u001b[0m\u001b[0m\n\u001b[1;32m      7\u001b[0m \u001b[0mprint\u001b[0m\u001b[0;34m(\u001b[0m\u001b[0mselected_lag\u001b[0m\u001b[0;34m)\u001b[0m\u001b[0;34m\u001b[0m\u001b[0;34m\u001b[0m\u001b[0m\n",
            "\u001b[0;32m/usr/local/lib/python3.7/dist-packages/statsmodels/tsa/vector_ar/var_model.py\u001b[0m in \u001b[0;36mselect_order\u001b[0;34m(self, maxlags, trend)\u001b[0m\n\u001b[1;32m    749\u001b[0m             \u001b[0mresult\u001b[0m \u001b[0;34m=\u001b[0m \u001b[0mself\u001b[0m\u001b[0;34m.\u001b[0m\u001b[0m_estimate_var\u001b[0m\u001b[0;34m(\u001b[0m\u001b[0mp\u001b[0m\u001b[0;34m,\u001b[0m \u001b[0moffset\u001b[0m\u001b[0;34m=\u001b[0m\u001b[0mmaxlags\u001b[0m \u001b[0;34m-\u001b[0m \u001b[0mp\u001b[0m\u001b[0;34m,\u001b[0m \u001b[0mtrend\u001b[0m\u001b[0;34m=\u001b[0m\u001b[0mtrend\u001b[0m\u001b[0;34m)\u001b[0m\u001b[0;34m\u001b[0m\u001b[0;34m\u001b[0m\u001b[0m\n\u001b[1;32m    750\u001b[0m \u001b[0;34m\u001b[0m\u001b[0m\n\u001b[0;32m--> 751\u001b[0;31m             \u001b[0;32mfor\u001b[0m \u001b[0mk\u001b[0m\u001b[0;34m,\u001b[0m \u001b[0mv\u001b[0m \u001b[0;32min\u001b[0m \u001b[0miteritems\u001b[0m\u001b[0;34m(\u001b[0m\u001b[0mresult\u001b[0m\u001b[0;34m.\u001b[0m\u001b[0minfo_criteria\u001b[0m\u001b[0;34m)\u001b[0m\u001b[0;34m:\u001b[0m\u001b[0;34m\u001b[0m\u001b[0;34m\u001b[0m\u001b[0m\n\u001b[0m\u001b[1;32m    752\u001b[0m                 \u001b[0mics\u001b[0m\u001b[0;34m[\u001b[0m\u001b[0mk\u001b[0m\u001b[0;34m]\u001b[0m\u001b[0;34m.\u001b[0m\u001b[0mappend\u001b[0m\u001b[0;34m(\u001b[0m\u001b[0mv\u001b[0m\u001b[0;34m)\u001b[0m\u001b[0;34m\u001b[0m\u001b[0;34m\u001b[0m\u001b[0m\n\u001b[1;32m    753\u001b[0m \u001b[0;34m\u001b[0m\u001b[0m\n",
            "\u001b[0;32m/usr/local/lib/python3.7/dist-packages/statsmodels/base/wrapper.py\u001b[0m in \u001b[0;36m__getattribute__\u001b[0;34m(self, attr)\u001b[0m\n\u001b[1;32m     33\u001b[0m             \u001b[0;32mpass\u001b[0m\u001b[0;34m\u001b[0m\u001b[0;34m\u001b[0m\u001b[0m\n\u001b[1;32m     34\u001b[0m \u001b[0;34m\u001b[0m\u001b[0m\n\u001b[0;32m---> 35\u001b[0;31m         \u001b[0mobj\u001b[0m \u001b[0;34m=\u001b[0m \u001b[0mgetattr\u001b[0m\u001b[0;34m(\u001b[0m\u001b[0mresults\u001b[0m\u001b[0;34m,\u001b[0m \u001b[0mattr\u001b[0m\u001b[0;34m)\u001b[0m\u001b[0;34m\u001b[0m\u001b[0;34m\u001b[0m\u001b[0m\n\u001b[0m\u001b[1;32m     36\u001b[0m         \u001b[0mdata\u001b[0m \u001b[0;34m=\u001b[0m \u001b[0mresults\u001b[0m\u001b[0;34m.\u001b[0m\u001b[0mmodel\u001b[0m\u001b[0;34m.\u001b[0m\u001b[0mdata\u001b[0m\u001b[0;34m\u001b[0m\u001b[0;34m\u001b[0m\u001b[0m\n\u001b[1;32m     37\u001b[0m         \u001b[0mhow\u001b[0m \u001b[0;34m=\u001b[0m \u001b[0mself\u001b[0m\u001b[0;34m.\u001b[0m\u001b[0m_wrap_attrs\u001b[0m\u001b[0;34m.\u001b[0m\u001b[0mget\u001b[0m\u001b[0;34m(\u001b[0m\u001b[0mattr\u001b[0m\u001b[0;34m)\u001b[0m\u001b[0;34m\u001b[0m\u001b[0;34m\u001b[0m\u001b[0m\n",
            "\u001b[0;32m/usr/local/lib/python3.7/dist-packages/statsmodels/tools/decorators.py\u001b[0m in \u001b[0;36m__get__\u001b[0;34m(self, obj, type)\u001b[0m\n\u001b[1;32m     91\u001b[0m         \u001b[0m_cachedval\u001b[0m \u001b[0;34m=\u001b[0m \u001b[0m_cache\u001b[0m\u001b[0;34m.\u001b[0m\u001b[0mget\u001b[0m\u001b[0;34m(\u001b[0m\u001b[0mname\u001b[0m\u001b[0;34m,\u001b[0m \u001b[0;32mNone\u001b[0m\u001b[0;34m)\u001b[0m\u001b[0;34m\u001b[0m\u001b[0;34m\u001b[0m\u001b[0m\n\u001b[1;32m     92\u001b[0m         \u001b[0;32mif\u001b[0m \u001b[0m_cachedval\u001b[0m \u001b[0;32mis\u001b[0m \u001b[0;32mNone\u001b[0m\u001b[0;34m:\u001b[0m\u001b[0;34m\u001b[0m\u001b[0;34m\u001b[0m\u001b[0m\n\u001b[0;32m---> 93\u001b[0;31m             \u001b[0m_cachedval\u001b[0m \u001b[0;34m=\u001b[0m \u001b[0mself\u001b[0m\u001b[0;34m.\u001b[0m\u001b[0mfget\u001b[0m\u001b[0;34m(\u001b[0m\u001b[0mobj\u001b[0m\u001b[0;34m)\u001b[0m\u001b[0;34m\u001b[0m\u001b[0;34m\u001b[0m\u001b[0m\n\u001b[0m\u001b[1;32m     94\u001b[0m             \u001b[0m_cache\u001b[0m\u001b[0;34m[\u001b[0m\u001b[0mname\u001b[0m\u001b[0;34m]\u001b[0m \u001b[0;34m=\u001b[0m \u001b[0m_cachedval\u001b[0m\u001b[0;34m\u001b[0m\u001b[0;34m\u001b[0m\u001b[0m\n\u001b[1;32m     95\u001b[0m \u001b[0;34m\u001b[0m\u001b[0m\n",
            "\u001b[0;32m/usr/local/lib/python3.7/dist-packages/statsmodels/tsa/vector_ar/var_model.py\u001b[0m in \u001b[0;36minfo_criteria\u001b[0;34m(self)\u001b[0m\n\u001b[1;32m   2083\u001b[0m         \u001b[0mfree_params\u001b[0m \u001b[0;34m=\u001b[0m \u001b[0mlag_order\u001b[0m \u001b[0;34m*\u001b[0m \u001b[0mneqs\u001b[0m \u001b[0;34m**\u001b[0m \u001b[0;36m2\u001b[0m \u001b[0;34m+\u001b[0m \u001b[0mneqs\u001b[0m \u001b[0;34m*\u001b[0m \u001b[0mself\u001b[0m\u001b[0;34m.\u001b[0m\u001b[0mk_exog\u001b[0m\u001b[0;34m\u001b[0m\u001b[0;34m\u001b[0m\u001b[0m\n\u001b[1;32m   2084\u001b[0m \u001b[0;34m\u001b[0m\u001b[0m\n\u001b[0;32m-> 2085\u001b[0;31m         \u001b[0mld\u001b[0m \u001b[0;34m=\u001b[0m \u001b[0mlogdet_symm\u001b[0m\u001b[0;34m(\u001b[0m\u001b[0mself\u001b[0m\u001b[0;34m.\u001b[0m\u001b[0msigma_u_mle\u001b[0m\u001b[0;34m)\u001b[0m\u001b[0;34m\u001b[0m\u001b[0;34m\u001b[0m\u001b[0m\n\u001b[0m\u001b[1;32m   2086\u001b[0m \u001b[0;34m\u001b[0m\u001b[0m\n\u001b[1;32m   2087\u001b[0m         \u001b[0;31m# See Lütkepohl pp. 146-150\u001b[0m\u001b[0;34m\u001b[0m\u001b[0;34m\u001b[0m\u001b[0;34m\u001b[0m\u001b[0m\n",
            "\u001b[0;32m/usr/local/lib/python3.7/dist-packages/statsmodels/tools/linalg.py\u001b[0m in \u001b[0;36mlogdet_symm\u001b[0;34m(m, check_symm)\u001b[0m\n\u001b[1;32m     26\u001b[0m         \u001b[0;32mif\u001b[0m \u001b[0;32mnot\u001b[0m \u001b[0mnp\u001b[0m\u001b[0;34m.\u001b[0m\u001b[0mall\u001b[0m\u001b[0;34m(\u001b[0m\u001b[0mm\u001b[0m \u001b[0;34m==\u001b[0m \u001b[0mm\u001b[0m\u001b[0;34m.\u001b[0m\u001b[0mT\u001b[0m\u001b[0;34m)\u001b[0m\u001b[0;34m:\u001b[0m  \u001b[0;31m# would be nice to short-circuit check\u001b[0m\u001b[0;34m\u001b[0m\u001b[0;34m\u001b[0m\u001b[0m\n\u001b[1;32m     27\u001b[0m             \u001b[0;32mraise\u001b[0m \u001b[0mValueError\u001b[0m\u001b[0;34m(\u001b[0m\u001b[0;34m\"m is not symmetric.\"\u001b[0m\u001b[0;34m)\u001b[0m\u001b[0;34m\u001b[0m\u001b[0;34m\u001b[0m\u001b[0m\n\u001b[0;32m---> 28\u001b[0;31m     \u001b[0mc\u001b[0m\u001b[0;34m,\u001b[0m \u001b[0m_\u001b[0m \u001b[0;34m=\u001b[0m \u001b[0mlinalg\u001b[0m\u001b[0;34m.\u001b[0m\u001b[0mcho_factor\u001b[0m\u001b[0;34m(\u001b[0m\u001b[0mm\u001b[0m\u001b[0;34m,\u001b[0m \u001b[0mlower\u001b[0m\u001b[0;34m=\u001b[0m\u001b[0;32mTrue\u001b[0m\u001b[0;34m)\u001b[0m\u001b[0;34m\u001b[0m\u001b[0;34m\u001b[0m\u001b[0m\n\u001b[0m\u001b[1;32m     29\u001b[0m     \u001b[0;32mreturn\u001b[0m \u001b[0;36m2\u001b[0m\u001b[0;34m*\u001b[0m\u001b[0mnp\u001b[0m\u001b[0;34m.\u001b[0m\u001b[0msum\u001b[0m\u001b[0;34m(\u001b[0m\u001b[0mnp\u001b[0m\u001b[0;34m.\u001b[0m\u001b[0mlog\u001b[0m\u001b[0;34m(\u001b[0m\u001b[0mc\u001b[0m\u001b[0;34m.\u001b[0m\u001b[0mdiagonal\u001b[0m\u001b[0;34m(\u001b[0m\u001b[0;34m)\u001b[0m\u001b[0;34m)\u001b[0m\u001b[0;34m)\u001b[0m\u001b[0;34m\u001b[0m\u001b[0;34m\u001b[0m\u001b[0m\n\u001b[1;32m     30\u001b[0m \u001b[0;34m\u001b[0m\u001b[0m\n",
            "\u001b[0;32m/usr/local/lib/python3.7/dist-packages/scipy/linalg/decomp_cholesky.py\u001b[0m in \u001b[0;36mcho_factor\u001b[0;34m(a, lower, overwrite_a, check_finite)\u001b[0m\n\u001b[1;32m    153\u001b[0m     \"\"\"\n\u001b[1;32m    154\u001b[0m     c, lower = _cholesky(a, lower=lower, overwrite_a=overwrite_a, clean=False,\n\u001b[0;32m--> 155\u001b[0;31m                          check_finite=check_finite)\n\u001b[0m\u001b[1;32m    156\u001b[0m     \u001b[0;32mreturn\u001b[0m \u001b[0mc\u001b[0m\u001b[0;34m,\u001b[0m \u001b[0mlower\u001b[0m\u001b[0;34m\u001b[0m\u001b[0;34m\u001b[0m\u001b[0m\n\u001b[1;32m    157\u001b[0m \u001b[0;34m\u001b[0m\u001b[0m\n",
            "\u001b[0;32m/usr/local/lib/python3.7/dist-packages/scipy/linalg/decomp_cholesky.py\u001b[0m in \u001b[0;36m_cholesky\u001b[0;34m(a, lower, overwrite_a, clean, check_finite)\u001b[0m\n\u001b[1;32m     38\u001b[0m     \u001b[0;32mif\u001b[0m \u001b[0minfo\u001b[0m \u001b[0;34m>\u001b[0m \u001b[0;36m0\u001b[0m\u001b[0;34m:\u001b[0m\u001b[0;34m\u001b[0m\u001b[0;34m\u001b[0m\u001b[0m\n\u001b[1;32m     39\u001b[0m         raise LinAlgError(\"%d-th leading minor of the array is not positive \"\n\u001b[0;32m---> 40\u001b[0;31m                           \"definite\" % info)\n\u001b[0m\u001b[1;32m     41\u001b[0m     \u001b[0;32mif\u001b[0m \u001b[0minfo\u001b[0m \u001b[0;34m<\u001b[0m \u001b[0;36m0\u001b[0m\u001b[0;34m:\u001b[0m\u001b[0;34m\u001b[0m\u001b[0;34m\u001b[0m\u001b[0m\n\u001b[1;32m     42\u001b[0m         raise ValueError('LAPACK reported an illegal value in {}-th argument'\n",
            "\u001b[0;31mLinAlgError\u001b[0m: 4-th leading minor of the array is not positive definite"
          ]
        }
      ]
    },
    {
      "cell_type": "markdown",
      "metadata": {
        "id": "DgQw5M9cj9Y7"
      },
      "source": [
        "Finding anomalies"
      ]
    },
    {
      "cell_type": "code",
      "metadata": {
        "id": "3k2ft0XTj_YS"
      },
      "source": [
        "import numpy as np\n",
        "\n",
        "def find_anomalies(squared_errors):\n",
        "    threshold = np.mean(squared_errors) + np.std(squared_errors)\n",
        "    predictions = (squared_errors >= threshold).astype(int)\n",
        "    return predictions, threshold\n",
        "var = VAR(df)\n",
        "var_fitresults = var.fit(selected_lag)\n",
        "squared_errors = var_fitresults.resid.sum(axis=1) ** 2\n",
        "predictions, threshold = find_anomalies(squared_errors)\n",
        "\n",
        "data = df.iloc[selected_lag:, :]\n",
        "data['Predictions'] = predictions.values\n",
        "data\n",
        "\n",
        "data['Predictions'].value_counts()"
      ],
      "execution_count": null,
      "outputs": []
    }
  ]
}